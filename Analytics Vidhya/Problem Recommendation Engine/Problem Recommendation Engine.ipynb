{
 "cells": [
  {
   "cell_type": "markdown",
   "metadata": {},
   "source": [
    "Competition Link: https://datahack.analyticsvidhya.com/contest/practice-problem-recommendation-engine\n",
    "\n",
    "Recommendation Engine\n",
    "\n",
    "Recommending the questions that a programmer should solve given his/her current expertise is a big challenge for Online Judge Platforms but is an essential task to keep a programmer engaged on their platform.\n",
    "\n",
    "In this practice problem, you are given the data of programmers and questions that they have previously solved along with the time that they took to solve that particular question.\n",
    "\n",
    "As a data scientist, your task is to build a model that can predict the time taken to solve a problem given the user current status.\n",
    "\n",
    "This model will help online judges to decide the next level of questions to recommend to a user."
   ]
  },
  {
   "cell_type": "code",
   "execution_count": 1,
   "metadata": {},
   "outputs": [],
   "source": [
    "#Necessary imports\n",
    "import pandas as pd\n",
    "import numpy as np\n",
    "import seaborn as sns\n",
    "from sklearn.preprocessing import LabelEncoder\n",
    "from sklearn.model_selection import train_test_split\n",
    "from xgboost import XGBClassifier\n",
    "from sklearn.metrics import accuracy_score\n",
    "from sklearn.metrics import f1_score"
   ]
  },
  {
   "cell_type": "code",
   "execution_count": 2,
   "metadata": {},
   "outputs": [],
   "source": [
    "#read data into dataframes\n",
    "user_df = pd.read_csv(r'data/train/user_data.csv')\n",
    "problem_df = pd.read_csv(r'data/train/problem_data.csv')\n",
    "train_submussion_df = pd.read_csv(r'data/train/train_submissions.csv')\n",
    "test_submussion_df = pd.read_csv(r'data/test_submissions.csv')"
   ]
  },
  {
   "cell_type": "code",
   "execution_count": 3,
   "metadata": {},
   "outputs": [
    {
     "data": {
      "text/html": [
       "<div>\n",
       "<style scoped>\n",
       "    .dataframe tbody tr th:only-of-type {\n",
       "        vertical-align: middle;\n",
       "    }\n",
       "\n",
       "    .dataframe tbody tr th {\n",
       "        vertical-align: top;\n",
       "    }\n",
       "\n",
       "    .dataframe thead th {\n",
       "        text-align: right;\n",
       "    }\n",
       "</style>\n",
       "<table border=\"1\" class=\"dataframe\">\n",
       "  <thead>\n",
       "    <tr style=\"text-align: right;\">\n",
       "      <th></th>\n",
       "      <th>user_id</th>\n",
       "      <th>submission_count</th>\n",
       "      <th>problem_solved</th>\n",
       "      <th>contribution</th>\n",
       "      <th>country</th>\n",
       "      <th>follower_count</th>\n",
       "      <th>last_online_time_seconds</th>\n",
       "      <th>max_rating</th>\n",
       "      <th>rating</th>\n",
       "      <th>rank</th>\n",
       "      <th>registration_time_seconds</th>\n",
       "    </tr>\n",
       "  </thead>\n",
       "  <tbody>\n",
       "    <tr>\n",
       "      <th>0</th>\n",
       "      <td>user_3311</td>\n",
       "      <td>47</td>\n",
       "      <td>40</td>\n",
       "      <td>0</td>\n",
       "      <td>NaN</td>\n",
       "      <td>4</td>\n",
       "      <td>1504111645</td>\n",
       "      <td>348.337</td>\n",
       "      <td>330.849</td>\n",
       "      <td>intermediate</td>\n",
       "      <td>1466686436</td>\n",
       "    </tr>\n",
       "    <tr>\n",
       "      <th>1</th>\n",
       "      <td>user_3028</td>\n",
       "      <td>63</td>\n",
       "      <td>52</td>\n",
       "      <td>0</td>\n",
       "      <td>India</td>\n",
       "      <td>17</td>\n",
       "      <td>1498998165</td>\n",
       "      <td>405.677</td>\n",
       "      <td>339.450</td>\n",
       "      <td>intermediate</td>\n",
       "      <td>1441893325</td>\n",
       "    </tr>\n",
       "    <tr>\n",
       "      <th>2</th>\n",
       "      <td>user_2268</td>\n",
       "      <td>226</td>\n",
       "      <td>203</td>\n",
       "      <td>-8</td>\n",
       "      <td>Egypt</td>\n",
       "      <td>24</td>\n",
       "      <td>1505566052</td>\n",
       "      <td>307.339</td>\n",
       "      <td>284.404</td>\n",
       "      <td>beginner</td>\n",
       "      <td>1454267603</td>\n",
       "    </tr>\n",
       "    <tr>\n",
       "      <th>3</th>\n",
       "      <td>user_480</td>\n",
       "      <td>611</td>\n",
       "      <td>490</td>\n",
       "      <td>1</td>\n",
       "      <td>Ukraine</td>\n",
       "      <td>94</td>\n",
       "      <td>1505257499</td>\n",
       "      <td>525.803</td>\n",
       "      <td>471.330</td>\n",
       "      <td>advanced</td>\n",
       "      <td>1350720417</td>\n",
       "    </tr>\n",
       "    <tr>\n",
       "      <th>4</th>\n",
       "      <td>user_650</td>\n",
       "      <td>504</td>\n",
       "      <td>479</td>\n",
       "      <td>12</td>\n",
       "      <td>Russia</td>\n",
       "      <td>4</td>\n",
       "      <td>1496613433</td>\n",
       "      <td>548.739</td>\n",
       "      <td>486.525</td>\n",
       "      <td>advanced</td>\n",
       "      <td>1395560498</td>\n",
       "    </tr>\n",
       "  </tbody>\n",
       "</table>\n",
       "</div>"
      ],
      "text/plain": [
       "     user_id  submission_count  problem_solved  contribution  country  \\\n",
       "0  user_3311                47              40             0      NaN   \n",
       "1  user_3028                63              52             0    India   \n",
       "2  user_2268               226             203            -8    Egypt   \n",
       "3   user_480               611             490             1  Ukraine   \n",
       "4   user_650               504             479            12   Russia   \n",
       "\n",
       "   follower_count  last_online_time_seconds  max_rating   rating  \\\n",
       "0               4                1504111645     348.337  330.849   \n",
       "1              17                1498998165     405.677  339.450   \n",
       "2              24                1505566052     307.339  284.404   \n",
       "3              94                1505257499     525.803  471.330   \n",
       "4               4                1496613433     548.739  486.525   \n",
       "\n",
       "           rank  registration_time_seconds  \n",
       "0  intermediate                 1466686436  \n",
       "1  intermediate                 1441893325  \n",
       "2      beginner                 1454267603  \n",
       "3      advanced                 1350720417  \n",
       "4      advanced                 1395560498  "
      ]
     },
     "execution_count": 3,
     "metadata": {},
     "output_type": "execute_result"
    }
   ],
   "source": [
    "#lets look at the sample data for each of the data frame. Sample data for user data\n",
    "user_df.head()"
   ]
  },
  {
   "cell_type": "code",
   "execution_count": 4,
   "metadata": {},
   "outputs": [
    {
     "data": {
      "text/html": [
       "<div>\n",
       "<style scoped>\n",
       "    .dataframe tbody tr th:only-of-type {\n",
       "        vertical-align: middle;\n",
       "    }\n",
       "\n",
       "    .dataframe tbody tr th {\n",
       "        vertical-align: top;\n",
       "    }\n",
       "\n",
       "    .dataframe thead th {\n",
       "        text-align: right;\n",
       "    }\n",
       "</style>\n",
       "<table border=\"1\" class=\"dataframe\">\n",
       "  <thead>\n",
       "    <tr style=\"text-align: right;\">\n",
       "      <th></th>\n",
       "      <th>submission_count</th>\n",
       "      <th>problem_solved</th>\n",
       "      <th>contribution</th>\n",
       "      <th>follower_count</th>\n",
       "      <th>last_online_time_seconds</th>\n",
       "      <th>max_rating</th>\n",
       "      <th>rating</th>\n",
       "      <th>registration_time_seconds</th>\n",
       "    </tr>\n",
       "  </thead>\n",
       "  <tbody>\n",
       "    <tr>\n",
       "      <th>count</th>\n",
       "      <td>3571.000000</td>\n",
       "      <td>3571.000000</td>\n",
       "      <td>3571.000000</td>\n",
       "      <td>3571.000000</td>\n",
       "      <td>3.571000e+03</td>\n",
       "      <td>3571.000000</td>\n",
       "      <td>3571.000000</td>\n",
       "      <td>3.571000e+03</td>\n",
       "    </tr>\n",
       "    <tr>\n",
       "      <th>mean</th>\n",
       "      <td>299.481098</td>\n",
       "      <td>267.894427</td>\n",
       "      <td>4.102492</td>\n",
       "      <td>46.690563</td>\n",
       "      <td>1.502680e+09</td>\n",
       "      <td>390.374392</td>\n",
       "      <td>350.165578</td>\n",
       "      <td>1.434961e+09</td>\n",
       "    </tr>\n",
       "    <tr>\n",
       "      <th>std</th>\n",
       "      <td>366.102887</td>\n",
       "      <td>344.139688</td>\n",
       "      <td>16.552256</td>\n",
       "      <td>211.494638</td>\n",
       "      <td>5.114850e+06</td>\n",
       "      <td>92.428788</td>\n",
       "      <td>106.592503</td>\n",
       "      <td>4.750758e+07</td>\n",
       "    </tr>\n",
       "    <tr>\n",
       "      <th>min</th>\n",
       "      <td>1.000000</td>\n",
       "      <td>0.000000</td>\n",
       "      <td>-64.000000</td>\n",
       "      <td>0.000000</td>\n",
       "      <td>1.484237e+09</td>\n",
       "      <td>303.899000</td>\n",
       "      <td>0.000000</td>\n",
       "      <td>1.264761e+09</td>\n",
       "    </tr>\n",
       "    <tr>\n",
       "      <th>25%</th>\n",
       "      <td>66.500000</td>\n",
       "      <td>53.000000</td>\n",
       "      <td>0.000000</td>\n",
       "      <td>4.000000</td>\n",
       "      <td>1.502691e+09</td>\n",
       "      <td>317.661000</td>\n",
       "      <td>279.243000</td>\n",
       "      <td>1.416323e+09</td>\n",
       "    </tr>\n",
       "    <tr>\n",
       "      <th>50%</th>\n",
       "      <td>169.000000</td>\n",
       "      <td>146.000000</td>\n",
       "      <td>0.000000</td>\n",
       "      <td>13.000000</td>\n",
       "      <td>1.505054e+09</td>\n",
       "      <td>355.791000</td>\n",
       "      <td>329.702000</td>\n",
       "      <td>1.449085e+09</td>\n",
       "    </tr>\n",
       "    <tr>\n",
       "      <th>75%</th>\n",
       "      <td>390.000000</td>\n",
       "      <td>349.000000</td>\n",
       "      <td>0.000000</td>\n",
       "      <td>40.000000</td>\n",
       "      <td>1.505551e+09</td>\n",
       "      <td>444.954000</td>\n",
       "      <td>413.417500</td>\n",
       "      <td>1.470379e+09</td>\n",
       "    </tr>\n",
       "    <tr>\n",
       "      <th>max</th>\n",
       "      <td>4570.000000</td>\n",
       "      <td>4476.000000</td>\n",
       "      <td>171.000000</td>\n",
       "      <td>10575.000000</td>\n",
       "      <td>1.505595e+09</td>\n",
       "      <td>983.085000</td>\n",
       "      <td>911.124000</td>\n",
       "      <td>1.484236e+09</td>\n",
       "    </tr>\n",
       "  </tbody>\n",
       "</table>\n",
       "</div>"
      ],
      "text/plain": [
       "       submission_count  problem_solved  contribution  follower_count  \\\n",
       "count       3571.000000     3571.000000   3571.000000     3571.000000   \n",
       "mean         299.481098      267.894427      4.102492       46.690563   \n",
       "std          366.102887      344.139688     16.552256      211.494638   \n",
       "min            1.000000        0.000000    -64.000000        0.000000   \n",
       "25%           66.500000       53.000000      0.000000        4.000000   \n",
       "50%          169.000000      146.000000      0.000000       13.000000   \n",
       "75%          390.000000      349.000000      0.000000       40.000000   \n",
       "max         4570.000000     4476.000000    171.000000    10575.000000   \n",
       "\n",
       "       last_online_time_seconds   max_rating       rating  \\\n",
       "count              3.571000e+03  3571.000000  3571.000000   \n",
       "mean               1.502680e+09   390.374392   350.165578   \n",
       "std                5.114850e+06    92.428788   106.592503   \n",
       "min                1.484237e+09   303.899000     0.000000   \n",
       "25%                1.502691e+09   317.661000   279.243000   \n",
       "50%                1.505054e+09   355.791000   329.702000   \n",
       "75%                1.505551e+09   444.954000   413.417500   \n",
       "max                1.505595e+09   983.085000   911.124000   \n",
       "\n",
       "       registration_time_seconds  \n",
       "count               3.571000e+03  \n",
       "mean                1.434961e+09  \n",
       "std                 4.750758e+07  \n",
       "min                 1.264761e+09  \n",
       "25%                 1.416323e+09  \n",
       "50%                 1.449085e+09  \n",
       "75%                 1.470379e+09  \n",
       "max                 1.484236e+09  "
      ]
     },
     "execution_count": 4,
     "metadata": {},
     "output_type": "execute_result"
    }
   ],
   "source": [
    "#description of user data\n",
    "user_df.describe()"
   ]
  },
  {
   "cell_type": "code",
   "execution_count": 5,
   "metadata": {},
   "outputs": [
    {
     "data": {
      "text/plain": [
       "user_id                         0\n",
       "submission_count                0\n",
       "problem_solved                  0\n",
       "contribution                    0\n",
       "country                      1153\n",
       "follower_count                  0\n",
       "last_online_time_seconds        0\n",
       "max_rating                      0\n",
       "rating                          0\n",
       "rank                            0\n",
       "registration_time_seconds       0\n",
       "dtype: int64"
      ]
     },
     "execution_count": 5,
     "metadata": {},
     "output_type": "execute_result"
    }
   ],
   "source": [
    "#count of null values\n",
    "user_df.isna().sum()"
   ]
  },
  {
   "cell_type": "code",
   "execution_count": 6,
   "metadata": {},
   "outputs": [
    {
     "data": {
      "text/plain": [
       "user_id                      0.000000\n",
       "submission_count             0.000000\n",
       "problem_solved               0.000000\n",
       "contribution                 0.000000\n",
       "country                      0.322879\n",
       "follower_count               0.000000\n",
       "last_online_time_seconds     0.000000\n",
       "max_rating                   0.000000\n",
       "rating                       0.000000\n",
       "rank                         0.000000\n",
       "registration_time_seconds    0.000000\n",
       "dtype: float64"
      ]
     },
     "execution_count": 6,
     "metadata": {},
     "output_type": "execute_result"
    }
   ],
   "source": [
    "#percentage of null values\n",
    "user_df.isnull().mean()"
   ]
  },
  {
   "cell_type": "code",
   "execution_count": 7,
   "metadata": {},
   "outputs": [
    {
     "data": {
      "text/plain": [
       "<matplotlib.axes._subplots.AxesSubplot at 0x4e234bb2c8>"
      ]
     },
     "execution_count": 7,
     "metadata": {},
     "output_type": "execute_result"
    },
    {
     "data": {
      "image/png": "[encoded data removed]",
      "text/plain": [
       "<Figure size 432x288 with 1 Axes>"
      ]
     },
     "metadata": {
      "needs_background": "light"
     },
     "output_type": "display_data"
    }
   ],
   "source": [
    "#plotting submision counts\n",
    "sns.distplot(user_df[\"submission_count\"])"
   ]
  },
  {
   "cell_type": "code",
   "execution_count": 8,
   "metadata": {},
   "outputs": [
    {
     "data": {
      "text/plain": [
       "0.1     25.0\n",
       "0.2     52.0\n",
       "0.3     84.0\n",
       "0.4    120.0\n",
       "0.5    169.0\n",
       "0.6    236.0\n",
       "0.7    329.0\n",
       "0.8    473.0\n",
       "0.9    747.0\n",
       "Name: submission_count, dtype: float64"
      ]
     },
     "execution_count": 8,
     "metadata": {},
     "output_type": "execute_result"
    }
   ],
   "source": [
    "#plotting problem solved counts\n",
    "user_df['submission_count'].quantile([.1, .2, .3, .4, .5, .6, .7, .8, .9])"
   ]
  },
  {
   "cell_type": "code",
   "execution_count": 9,
   "metadata": {},
   "outputs": [],
   "source": [
    "#creating bins for submission counts\n",
    "submission_count_bins = pd.qcut(user_df[\"submission_count\"], 4,labels = False)\n",
    "\n",
    "#creating the new column for quantiled submission count\n",
    "user_df[\"submission_count_bins\"] = submission_count_bins.values"
   ]
  },
  {
   "cell_type": "code",
   "execution_count": 10,
   "metadata": {},
   "outputs": [
    {
     "data": {
      "text/plain": [
       "<matplotlib.axes._subplots.AxesSubplot at 0x4e23e06308>"
      ]
     },
     "execution_count": 10,
     "metadata": {},
     "output_type": "execute_result"
    },
    {
     "data": {
      "image/png": "[encoded data removed]",
      "text/plain": [
       "<Figure size 432x288 with 1 Axes>"
      ]
     },
     "metadata": {
      "needs_background": "light"
     },
     "output_type": "display_data"
    }
   ],
   "source": [
    "#Let's have a look at the distribution for submission count bins\n",
    "sns.distplot(user_df[\"submission_count_bins\"])"
   ]
  },
  {
   "cell_type": "code",
   "execution_count": 11,
   "metadata": {},
   "outputs": [
    {
     "data": {
      "text/plain": [
       "<matplotlib.axes._subplots.AxesSubplot at 0x4e23ebb648>"
      ]
     },
     "execution_count": 11,
     "metadata": {},
     "output_type": "execute_result"
    },
    {
     "data": {
      "image/png": "[encoded data removed]",
      "text/plain": [
       "<Figure size 432x288 with 1 Axes>"
      ]
     },
     "metadata": {
      "needs_background": "light"
     },
     "output_type": "display_data"
    }
   ],
   "source": [
    "#plotting problem solved counts\n",
    "sns.distplot(user_df[\"problem_solved\"])"
   ]
  },
  {
   "cell_type": "code",
   "execution_count": 12,
   "metadata": {},
   "outputs": [
    {
     "data": {
      "text/plain": [
       "0.2     40.0\n",
       "0.4    100.0\n",
       "0.6    207.0\n",
       "0.8    422.0\n",
       "Name: problem_solved, dtype: float64"
      ]
     },
     "execution_count": 12,
     "metadata": {},
     "output_type": "execute_result"
    }
   ],
   "source": [
    "#plotting problem solved counts\n",
    "user_df['problem_solved'].quantile([.2, .4,.6, .8])"
   ]
  },
  {
   "cell_type": "code",
   "execution_count": 13,
   "metadata": {},
   "outputs": [],
   "source": [
    "#quantiling the problem solved counts\n",
    "problem_solved_bins = pd.qcut(user_df[\"problem_solved\"], 5,labels = False)\n",
    "\n",
    "#creating bins for problem solved counts\n",
    "user_df[\"problem_solved_bins\"] = problem_solved_bins.values"
   ]
  },
  {
   "cell_type": "code",
   "execution_count": 14,
   "metadata": {},
   "outputs": [
    {
     "data": {
      "text/plain": [
       "<matplotlib.axes._subplots.AxesSubplot at 0x4e23fb5408>"
      ]
     },
     "execution_count": 14,
     "metadata": {},
     "output_type": "execute_result"
    },
    {
     "data": {
      "image/png": "[encoded data removed]",
      "text/plain": [
       "<Figure size 432x288 with 1 Axes>"
      ]
     },
     "metadata": {
      "needs_background": "light"
     },
     "output_type": "display_data"
    }
   ],
   "source": [
    "#let's look at the distribution of the problem solved bins\n",
    "sns.distplot(user_df[\"problem_solved_bins\"])"
   ]
  },
  {
   "cell_type": "code",
   "execution_count": 15,
   "metadata": {},
   "outputs": [
    {
     "data": {
      "text/html": [
       "<div>\n",
       "<style scoped>\n",
       "    .dataframe tbody tr th:only-of-type {\n",
       "        vertical-align: middle;\n",
       "    }\n",
       "\n",
       "    .dataframe tbody tr th {\n",
       "        vertical-align: top;\n",
       "    }\n",
       "\n",
       "    .dataframe thead th {\n",
       "        text-align: right;\n",
       "    }\n",
       "</style>\n",
       "<table border=\"1\" class=\"dataframe\">\n",
       "  <thead>\n",
       "    <tr style=\"text-align: right;\">\n",
       "      <th></th>\n",
       "      <th>user_id</th>\n",
       "      <th>submission_count</th>\n",
       "      <th>problem_solved</th>\n",
       "      <th>contribution</th>\n",
       "      <th>country</th>\n",
       "      <th>follower_count</th>\n",
       "      <th>last_online_time_seconds</th>\n",
       "      <th>max_rating</th>\n",
       "      <th>rating</th>\n",
       "      <th>rank</th>\n",
       "      <th>registration_time_seconds</th>\n",
       "      <th>submission_count_bins</th>\n",
       "      <th>problem_solved_bins</th>\n",
       "    </tr>\n",
       "  </thead>\n",
       "  <tbody>\n",
       "    <tr>\n",
       "      <th>0</th>\n",
       "      <td>user_3311</td>\n",
       "      <td>47</td>\n",
       "      <td>40</td>\n",
       "      <td>0</td>\n",
       "      <td>NaN</td>\n",
       "      <td>4</td>\n",
       "      <td>1504111645</td>\n",
       "      <td>348.337</td>\n",
       "      <td>330.849</td>\n",
       "      <td>intermediate</td>\n",
       "      <td>1466686436</td>\n",
       "      <td>0</td>\n",
       "      <td>0</td>\n",
       "    </tr>\n",
       "    <tr>\n",
       "      <th>1</th>\n",
       "      <td>user_3028</td>\n",
       "      <td>63</td>\n",
       "      <td>52</td>\n",
       "      <td>0</td>\n",
       "      <td>India</td>\n",
       "      <td>17</td>\n",
       "      <td>1498998165</td>\n",
       "      <td>405.677</td>\n",
       "      <td>339.450</td>\n",
       "      <td>intermediate</td>\n",
       "      <td>1441893325</td>\n",
       "      <td>0</td>\n",
       "      <td>1</td>\n",
       "    </tr>\n",
       "    <tr>\n",
       "      <th>2</th>\n",
       "      <td>user_2268</td>\n",
       "      <td>226</td>\n",
       "      <td>203</td>\n",
       "      <td>-8</td>\n",
       "      <td>Egypt</td>\n",
       "      <td>24</td>\n",
       "      <td>1505566052</td>\n",
       "      <td>307.339</td>\n",
       "      <td>284.404</td>\n",
       "      <td>beginner</td>\n",
       "      <td>1454267603</td>\n",
       "      <td>2</td>\n",
       "      <td>2</td>\n",
       "    </tr>\n",
       "    <tr>\n",
       "      <th>3</th>\n",
       "      <td>user_480</td>\n",
       "      <td>611</td>\n",
       "      <td>490</td>\n",
       "      <td>1</td>\n",
       "      <td>Ukraine</td>\n",
       "      <td>94</td>\n",
       "      <td>1505257499</td>\n",
       "      <td>525.803</td>\n",
       "      <td>471.330</td>\n",
       "      <td>advanced</td>\n",
       "      <td>1350720417</td>\n",
       "      <td>3</td>\n",
       "      <td>4</td>\n",
       "    </tr>\n",
       "    <tr>\n",
       "      <th>4</th>\n",
       "      <td>user_650</td>\n",
       "      <td>504</td>\n",
       "      <td>479</td>\n",
       "      <td>12</td>\n",
       "      <td>Russia</td>\n",
       "      <td>4</td>\n",
       "      <td>1496613433</td>\n",
       "      <td>548.739</td>\n",
       "      <td>486.525</td>\n",
       "      <td>advanced</td>\n",
       "      <td>1395560498</td>\n",
       "      <td>3</td>\n",
       "      <td>4</td>\n",
       "    </tr>\n",
       "  </tbody>\n",
       "</table>\n",
       "</div>"
      ],
      "text/plain": [
       "     user_id  submission_count  problem_solved  contribution  country  \\\n",
       "0  user_3311                47              40             0      NaN   \n",
       "1  user_3028                63              52             0    India   \n",
       "2  user_2268               226             203            -8    Egypt   \n",
       "3   user_480               611             490             1  Ukraine   \n",
       "4   user_650               504             479            12   Russia   \n",
       "\n",
       "   follower_count  last_online_time_seconds  max_rating   rating  \\\n",
       "0               4                1504111645     348.337  330.849   \n",
       "1              17                1498998165     405.677  339.450   \n",
       "2              24                1505566052     307.339  284.404   \n",
       "3              94                1505257499     525.803  471.330   \n",
       "4               4                1496613433     548.739  486.525   \n",
       "\n",
       "           rank  registration_time_seconds  submission_count_bins  \\\n",
       "0  intermediate                 1466686436                      0   \n",
       "1  intermediate                 1441893325                      0   \n",
       "2      beginner                 1454267603                      2   \n",
       "3      advanced                 1350720417                      3   \n",
       "4      advanced                 1395560498                      3   \n",
       "\n",
       "   problem_solved_bins  \n",
       "0                    0  \n",
       "1                    1  \n",
       "2                    2  \n",
       "3                    4  \n",
       "4                    4  "
      ]
     },
     "execution_count": 15,
     "metadata": {},
     "output_type": "execute_result"
    }
   ],
   "source": [
    "#let's have a look at the new column for problem solved bins\n",
    "user_df.head()"
   ]
  },
  {
   "cell_type": "code",
   "execution_count": 16,
   "metadata": {},
   "outputs": [
    {
     "data": {
      "text/plain": [
       "False"
      ]
     },
     "execution_count": 16,
     "metadata": {},
     "output_type": "execute_result"
    }
   ],
   "source": [
    "#looks like problem solved count bins and submission count bins are identical. So I will check them once if they are idential\n",
    "user_df['submission_count_bins'].equals(user_df['problem_solved_bins'])"
   ]
  },
  {
   "cell_type": "markdown",
   "metadata": {},
   "source": [
    "submission_count_bins and problem_solved_bins are not identical so we can proceed with the other columns"
   ]
  },
  {
   "cell_type": "code",
   "execution_count": 17,
   "metadata": {},
   "outputs": [],
   "source": [
    "#define success rate as a column\n",
    "user_df['success_rate'] = user_df['problem_solved']/user_df['submission_count']*100"
   ]
  },
  {
   "cell_type": "code",
   "execution_count": 18,
   "metadata": {},
   "outputs": [
    {
     "data": {
      "text/plain": [
       "<matplotlib.axes._subplots.AxesSubplot at 0x4e2408c108>"
      ]
     },
     "execution_count": 18,
     "metadata": {},
     "output_type": "execute_result"
    },
    {
     "data": {
      "image/png": "[encoded data removed]",
      "text/plain": [
       "<Figure size 432x288 with 1 Axes>"
      ]
     },
     "metadata": {
      "needs_background": "light"
     },
     "output_type": "display_data"
    }
   ],
   "source": [
    "#Let's look at the distribution of the contribution\n",
    "sns.distplot(user_df[\"contribution\"], kde=False, rug=True)"
   ]
  },
  {
   "cell_type": "code",
   "execution_count": 19,
   "metadata": {},
   "outputs": [
    {
     "data": {
      "text/plain": [
       " 0    0.708485\n",
       " 1    0.032204\n",
       " 2    0.018482\n",
       " 3    0.016522\n",
       "-1    0.012602\n",
       " 4    0.010641\n",
       " 6    0.010361\n",
       " 5    0.009521\n",
       "-2    0.007561\n",
       " 7    0.007281\n",
       "Name: contribution, dtype: float64"
      ]
     },
     "execution_count": 19,
     "metadata": {},
     "output_type": "execute_result"
    }
   ],
   "source": [
    "#this is quite skewed with 2530 values as 0\n",
    "user_df[\"contribution\"].value_counts(normalize = True).head(10)"
   ]
  },
  {
   "cell_type": "markdown",
   "metadata": {},
   "source": [
    "We will have to remove the fiels contribution as it has 70% values as 0"
   ]
  },
  {
   "cell_type": "code",
   "execution_count": 20,
   "metadata": {},
   "outputs": [
    {
     "data": {
      "text/plain": [
       "(80,)"
      ]
     },
     "execution_count": 20,
     "metadata": {},
     "output_type": "execute_result"
    }
   ],
   "source": [
    "#Now let's look at the number of countries or values\n",
    "user_df[\"country\"].unique().shape"
   ]
  },
  {
   "cell_type": "markdown",
   "metadata": {},
   "source": [
    "Strategy for imputing the null values will be based on the ratio of occurence of the countries in the rest of the data.\n",
    "For example, India occured 25.6% and Bangladesh occured 13.6% and so on. We will use this ratio of all the countries to fill the missing data."
   ]
  },
  {
   "cell_type": "code",
   "execution_count": 21,
   "metadata": {},
   "outputs": [],
   "source": [
    "#Getting all the ratios\n",
    "country_data = (user_df[\"country\"].value_counts()/user_df[\"country\"].count())"
   ]
  },
  {
   "cell_type": "code",
   "execution_count": 22,
   "metadata": {},
   "outputs": [],
   "source": [
    "#imputing missing values\n",
    "user_df[\"country\"]= user_df[\"country\"].fillna(pd.Series(np.random.choice(country_data.index,p=country_data.values, size=len(user_df))))"
   ]
  },
  {
   "cell_type": "markdown",
   "metadata": {},
   "source": [
    "Country is a categorical feature and there are 79 levels. I would like to keep the levels to 10. So, I will keep the first 9 countries by count and the rest of the countries will be put under \"other\""
   ]
  },
  {
   "cell_type": "code",
   "execution_count": 23,
   "metadata": {},
   "outputs": [],
   "source": [
    "country_list = user_df['country'].value_counts().index[:9]\n",
    "user_df['country_new'] = np.where(user_df['country'].isin(country_list), user_df['country'], 'Other')"
   ]
  },
  {
   "cell_type": "code",
   "execution_count": 24,
   "metadata": {},
   "outputs": [
    {
     "data": {
      "text/plain": [
       "<matplotlib.axes._subplots.AxesSubplot at 0x4e24085808>"
      ]
     },
     "execution_count": 24,
     "metadata": {},
     "output_type": "execute_result"
    },
    {
     "data": {
      "image/png": "[encoded data removed]",
      "text/plain": [
       "<Figure size 432x288 with 1 Axes>"
      ]
     },
     "metadata": {
      "needs_background": "light"
     },
     "output_type": "display_data"
    }
   ],
   "source": [
    "#Now let's look at the countries distribution\n",
    "sns.countplot(user_df[\"country_new\"])"
   ]
  },
  {
   "cell_type": "code",
   "execution_count": 25,
   "metadata": {},
   "outputs": [
    {
     "data": {
      "text/plain": [
       "Other         996\n",
       "India         906\n",
       "Bangladesh    483\n",
       "Russia        388\n",
       "China         241\n",
       "Egypt         144\n",
       "Kazakhstan    114\n",
       "Brazil        110\n",
       "Iran           99\n",
       "Vietnam        90\n",
       "Name: country_new, dtype: int64"
      ]
     },
     "execution_count": 25,
     "metadata": {},
     "output_type": "execute_result"
    }
   ],
   "source": [
    "#value counts of new field\n",
    "user_df[\"country_new\"].value_counts()"
   ]
  },
  {
   "cell_type": "code",
   "execution_count": 26,
   "metadata": {},
   "outputs": [
    {
     "data": {
      "text/plain": [
       "<matplotlib.axes._subplots.AxesSubplot at 0x4e24bad808>"
      ]
     },
     "execution_count": 26,
     "metadata": {},
     "output_type": "execute_result"
    },
    {
     "data": {
      "image/png": "[encoded data removed]",
      "text/plain": [
       "<Figure size 432x288 with 1 Axes>"
      ]
     },
     "metadata": {
      "needs_background": "light"
     },
     "output_type": "display_data"
    }
   ],
   "source": [
    "#plotting follower_count\n",
    "sns.distplot(user_df[\"follower_count\"])"
   ]
  },
  {
   "cell_type": "code",
   "execution_count": 27,
   "metadata": {},
   "outputs": [
    {
     "data": {
      "text/plain": [
       "(327, 15)"
      ]
     },
     "execution_count": 27,
     "metadata": {},
     "output_type": "execute_result"
    }
   ],
   "source": [
    "user_df.loc[user_df[\"follower_count\"]==0].shape"
   ]
  },
  {
   "cell_type": "code",
   "execution_count": 28,
   "metadata": {},
   "outputs": [
    {
     "data": {
      "text/plain": [
       "0.2     2.0\n",
       "0.4     9.0\n",
       "0.6    21.0\n",
       "0.8    50.0\n",
       "Name: follower_count, dtype: float64"
      ]
     },
     "execution_count": 28,
     "metadata": {},
     "output_type": "execute_result"
    }
   ],
   "source": [
    "#quantiling the follower_count\n",
    "user_df['follower_count'].quantile([.2, .4, .6, .8])"
   ]
  },
  {
   "cell_type": "code",
   "execution_count": 29,
   "metadata": {},
   "outputs": [],
   "source": [
    "#creating bins for submission counts\n",
    "follower_count_bins = pd.qcut(user_df[\"follower_count\"], 5,labels = False)\n",
    "#creating the new column for quantiled submission count\n",
    "user_df[\"follower_count_bins\"] = follower_count_bins.values"
   ]
  },
  {
   "cell_type": "code",
   "execution_count": 30,
   "metadata": {},
   "outputs": [
    {
     "data": {
      "text/plain": [
       "<matplotlib.axes._subplots.AxesSubplot at 0x4e24ca5048>"
      ]
     },
     "execution_count": 30,
     "metadata": {},
     "output_type": "execute_result"
    },
    {
     "data": {
      "image/png": "[encoded data removed]",
      "text/plain": [
       "<Figure size 432x288 with 1 Axes>"
      ]
     },
     "metadata": {
      "needs_background": "light"
     },
     "output_type": "display_data"
    }
   ],
   "source": [
    "#Let's have a look at the new distribution\n",
    "sns.distplot(user_df[\"follower_count_bins\"])"
   ]
  },
  {
   "cell_type": "code",
   "execution_count": 31,
   "metadata": {},
   "outputs": [],
   "source": [
    "#let's find the age of the user in the platform in months\n",
    "user_df[\"age_in_platform\"] = (user_df[\"last_online_time_seconds\"] - user_df[\"registration_time_seconds\"])/(24*3600*30)"
   ]
  },
  {
   "cell_type": "code",
   "execution_count": 32,
   "metadata": {},
   "outputs": [
    {
     "data": {
      "text/plain": [
       "<matplotlib.axes._subplots.AxesSubplot at 0x4e24d28e48>"
      ]
     },
     "execution_count": 32,
     "metadata": {},
     "output_type": "execute_result"
    },
    {
     "data": {
      "image/png": "[encoded data removed]",
      "text/plain": [
       "<Figure size 432x288 with 1 Axes>"
      ]
     },
     "metadata": {
      "needs_background": "light"
     },
     "output_type": "display_data"
    }
   ],
   "source": [
    "sns.distplot(user_df[\"age_in_platform\"])"
   ]
  },
  {
   "cell_type": "code",
   "execution_count": 33,
   "metadata": {},
   "outputs": [
    {
     "data": {
      "text/plain": [
       "<matplotlib.axes._subplots.AxesSubplot at 0x4e24e04d48>"
      ]
     },
     "execution_count": 33,
     "metadata": {},
     "output_type": "execute_result"
    },
    {
     "data": {
      "image/png": "[encoded data removed]",
      "text/plain": [
       "<Figure size 432x288 with 1 Axes>"
      ]
     },
     "metadata": {
      "needs_background": "light"
     },
     "output_type": "display_data"
    }
   ],
   "source": [
    "#plotting max_rating\n",
    "sns.distplot(user_df[\"max_rating\"])"
   ]
  },
  {
   "cell_type": "code",
   "execution_count": 34,
   "metadata": {},
   "outputs": [],
   "source": [
    "#creating bins for max_rating counts\n",
    "max_rating_bins = pd.qcut(user_df[\"max_rating\"], 4,labels = False)"
   ]
  },
  {
   "cell_type": "code",
   "execution_count": 35,
   "metadata": {},
   "outputs": [],
   "source": [
    "#creating the new column for quantiled max_rating count\n",
    "user_df[\"max_rating_bins\"] = max_rating_bins.values"
   ]
  },
  {
   "cell_type": "code",
   "execution_count": 36,
   "metadata": {},
   "outputs": [
    {
     "data": {
      "text/plain": [
       "<matplotlib.axes._subplots.AxesSubplot at 0x4e24ed5b48>"
      ]
     },
     "execution_count": 36,
     "metadata": {},
     "output_type": "execute_result"
    },
    {
     "data": {
      "image/png": "[encoded data removed]",
      "text/plain": [
       "<Figure size 432x288 with 1 Axes>"
      ]
     },
     "metadata": {
      "needs_background": "light"
     },
     "output_type": "display_data"
    }
   ],
   "source": [
    "#plotting max_rating counts\n",
    "sns.distplot(user_df[\"max_rating_bins\"])"
   ]
  },
  {
   "cell_type": "code",
   "execution_count": 37,
   "metadata": {},
   "outputs": [
    {
     "data": {
      "text/plain": [
       "<matplotlib.axes._subplots.AxesSubplot at 0x4e24f41d08>"
      ]
     },
     "execution_count": 37,
     "metadata": {},
     "output_type": "execute_result"
    },
    {
     "data": {
      "image/png": "[encoded data removed]",
      "text/plain": [
       "<Figure size 432x288 with 1 Axes>"
      ]
     },
     "metadata": {
      "needs_background": "light"
     },
     "output_type": "display_data"
    }
   ],
   "source": [
    "#plotting submision counts\n",
    "sns.distplot(user_df[\"rating\"])"
   ]
  },
  {
   "cell_type": "code",
   "execution_count": 38,
   "metadata": {},
   "outputs": [
    {
     "data": {
      "text/plain": [
       "array(['intermediate', 'beginner', 'advanced', 'expert'], dtype=object)"
      ]
     },
     "execution_count": 38,
     "metadata": {},
     "output_type": "execute_result"
    }
   ],
   "source": [
    "#Now let's look at the unique ranks\n",
    "user_df[\"rank\"].unique()"
   ]
  },
  {
   "cell_type": "code",
   "execution_count": 39,
   "metadata": {},
   "outputs": [
    {
     "data": {
      "text/plain": [
       "<matplotlib.axes._subplots.AxesSubplot at 0x4e252df748>"
      ]
     },
     "execution_count": 39,
     "metadata": {},
     "output_type": "execute_result"
    },
    {
     "data": {
      "image/png": "[encoded data removed]",
      "text/plain": [
       "<Figure size 432x288 with 1 Axes>"
      ]
     },
     "metadata": {
      "needs_background": "light"
     },
     "output_type": "display_data"
    }
   ],
   "source": [
    "#Now let's look at the rank distribution\n",
    "sns.countplot(user_df[\"rank\"])"
   ]
  },
  {
   "cell_type": "code",
   "execution_count": 40,
   "metadata": {},
   "outputs": [
    {
     "data": {
      "text/plain": [
       "<matplotlib.axes._subplots.AxesSubplot at 0x4e25348488>"
      ]
     },
     "execution_count": 40,
     "metadata": {},
     "output_type": "execute_result"
    },
    {
     "data": {
      "image/png": "[encoded data removed]",
      "text/plain": [
       "<Figure size 432x288 with 1 Axes>"
      ]
     },
     "metadata": {
      "needs_background": "light"
     },
     "output_type": "display_data"
    }
   ],
   "source": [
    "#Percentage distribution of rank\n",
    "sns.barplot(user_df[\"rank\"].value_counts(normalize = True).index, user_df[\"rank\"].value_counts(normalize = True).values)"
   ]
  },
  {
   "cell_type": "code",
   "execution_count": 41,
   "metadata": {},
   "outputs": [
    {
     "data": {
      "text/plain": [
       "beginner        0.422571\n",
       "intermediate    0.394847\n",
       "advanced        0.159619\n",
       "expert          0.022963\n",
       "Name: rank, dtype: float64"
      ]
     },
     "execution_count": 41,
     "metadata": {},
     "output_type": "execute_result"
    }
   ],
   "source": [
    "#percentage distribution of rank. It looks good to go\n",
    "user_df[\"rank\"].value_counts(normalize = True)"
   ]
  },
  {
   "cell_type": "code",
   "execution_count": 42,
   "metadata": {},
   "outputs": [
    {
     "data": {
      "text/plain": [
       "Index(['user_id', 'submission_count', 'problem_solved', 'contribution',\n",
       "       'country', 'follower_count', 'last_online_time_seconds', 'max_rating',\n",
       "       'rating', 'rank', 'registration_time_seconds', 'submission_count_bins',\n",
       "       'problem_solved_bins', 'success_rate', 'country_new',\n",
       "       'follower_count_bins', 'age_in_platform', 'max_rating_bins'],\n",
       "      dtype='object')"
      ]
     },
     "execution_count": 42,
     "metadata": {},
     "output_type": "execute_result"
    }
   ],
   "source": [
    "user_df.columns"
   ]
  },
  {
   "cell_type": "code",
   "execution_count": 43,
   "metadata": {},
   "outputs": [],
   "source": [
    "#70% values are 0, so we can drop this field\n",
    "user_df.drop(columns = [\"contribution\"],axis = 1, inplace = True)"
   ]
  },
  {
   "cell_type": "code",
   "execution_count": 44,
   "metadata": {},
   "outputs": [],
   "source": [
    "#drop country as we have a new field for country with 'Other'\n",
    "user_df.drop(columns = [\"country\"],axis = 1, inplace = True)"
   ]
  },
  {
   "cell_type": "code",
   "execution_count": 45,
   "metadata": {},
   "outputs": [],
   "source": [
    "#registration time in year\n",
    "user_df[\"registration_time\"] = 2020.37158 - (user_df[\"registration_time_seconds\"]/(3600*24*365)+1970)"
   ]
  },
  {
   "cell_type": "code",
   "execution_count": 46,
   "metadata": {},
   "outputs": [],
   "source": [
    "#registration time in year\n",
    "user_df[\"last_online_time\"] = 2020.37158 - (user_df[\"last_online_time_seconds\"]/(3600*24*365)+1970)"
   ]
  },
  {
   "cell_type": "code",
   "execution_count": 47,
   "metadata": {},
   "outputs": [],
   "source": [
    "#drop last_online_time_seconds and registration_time_seconds as we have new fields for them\n",
    "user_df.drop(columns = [\"last_online_time_seconds\",\"registration_time_seconds\"],axis = 1, inplace = True)"
   ]
  },
  {
   "cell_type": "code",
   "execution_count": 48,
   "metadata": {},
   "outputs": [],
   "source": [
    "#change values of country_new using a label encoder\n",
    "labelencoder = LabelEncoder()\n",
    "user_df['country_new'] = labelencoder.fit_transform(user_df['country_new'])"
   ]
  },
  {
   "cell_type": "code",
   "execution_count": 49,
   "metadata": {},
   "outputs": [],
   "source": [
    "#change values of rank to numeric\n",
    "rank_dict = {'beginner':0, 'intermediate':1, 'advanced':2, 'expert':3}\n",
    "user_df[\"rank\"] = user_df[\"rank\"].apply(lambda x: rank_dict[x])"
   ]
  },
  {
   "cell_type": "code",
   "execution_count": 50,
   "metadata": {},
   "outputs": [
    {
     "data": {
      "text/html": [
       "<div>\n",
       "<style scoped>\n",
       "    .dataframe tbody tr th:only-of-type {\n",
       "        vertical-align: middle;\n",
       "    }\n",
       "\n",
       "    .dataframe tbody tr th {\n",
       "        vertical-align: top;\n",
       "    }\n",
       "\n",
       "    .dataframe thead th {\n",
       "        text-align: right;\n",
       "    }\n",
       "</style>\n",
       "<table border=\"1\" class=\"dataframe\">\n",
       "  <thead>\n",
       "    <tr style=\"text-align: right;\">\n",
       "      <th></th>\n",
       "      <th>user_id</th>\n",
       "      <th>submission_count</th>\n",
       "      <th>problem_solved</th>\n",
       "      <th>follower_count</th>\n",
       "      <th>max_rating</th>\n",
       "      <th>rating</th>\n",
       "      <th>rank</th>\n",
       "      <th>submission_count_bins</th>\n",
       "      <th>problem_solved_bins</th>\n",
       "      <th>success_rate</th>\n",
       "      <th>country_new</th>\n",
       "      <th>follower_count_bins</th>\n",
       "      <th>age_in_platform</th>\n",
       "      <th>max_rating_bins</th>\n",
       "      <th>registration_time</th>\n",
       "      <th>last_online_time</th>\n",
       "    </tr>\n",
       "  </thead>\n",
       "  <tbody>\n",
       "    <tr>\n",
       "      <th>0</th>\n",
       "      <td>user_3311</td>\n",
       "      <td>47</td>\n",
       "      <td>40</td>\n",
       "      <td>4</td>\n",
       "      <td>348.337</td>\n",
       "      <td>330.849</td>\n",
       "      <td>1</td>\n",
       "      <td>0</td>\n",
       "      <td>0</td>\n",
       "      <td>85.106383</td>\n",
       "      <td>9</td>\n",
       "      <td>1</td>\n",
       "      <td>14.438738</td>\n",
       "      <td>1</td>\n",
       "      <td>3.863258</td>\n",
       "      <td>2.676513</td>\n",
       "    </tr>\n",
       "    <tr>\n",
       "      <th>1</th>\n",
       "      <td>user_3028</td>\n",
       "      <td>63</td>\n",
       "      <td>52</td>\n",
       "      <td>17</td>\n",
       "      <td>405.677</td>\n",
       "      <td>339.450</td>\n",
       "      <td>1</td>\n",
       "      <td>0</td>\n",
       "      <td>1</td>\n",
       "      <td>82.539683</td>\n",
       "      <td>4</td>\n",
       "      <td>2</td>\n",
       "      <td>22.031188</td>\n",
       "      <td>2</td>\n",
       "      <td>4.649443</td>\n",
       "      <td>2.838660</td>\n",
       "    </tr>\n",
       "    <tr>\n",
       "      <th>2</th>\n",
       "      <td>user_2268</td>\n",
       "      <td>226</td>\n",
       "      <td>203</td>\n",
       "      <td>24</td>\n",
       "      <td>307.339</td>\n",
       "      <td>284.404</td>\n",
       "      <td>0</td>\n",
       "      <td>2</td>\n",
       "      <td>2</td>\n",
       "      <td>89.823009</td>\n",
       "      <td>3</td>\n",
       "      <td>3</td>\n",
       "      <td>19.791068</td>\n",
       "      <td>0</td>\n",
       "      <td>4.257057</td>\n",
       "      <td>2.630394</td>\n",
       "    </tr>\n",
       "    <tr>\n",
       "      <th>3</th>\n",
       "      <td>user_480</td>\n",
       "      <td>611</td>\n",
       "      <td>490</td>\n",
       "      <td>94</td>\n",
       "      <td>525.803</td>\n",
       "      <td>471.330</td>\n",
       "      <td>2</td>\n",
       "      <td>3</td>\n",
       "      <td>4</td>\n",
       "      <td>80.196399</td>\n",
       "      <td>7</td>\n",
       "      <td>4</td>\n",
       "      <td>59.620788</td>\n",
       "      <td>3</td>\n",
       "      <td>7.540517</td>\n",
       "      <td>2.640178</td>\n",
       "    </tr>\n",
       "    <tr>\n",
       "      <th>4</th>\n",
       "      <td>user_650</td>\n",
       "      <td>504</td>\n",
       "      <td>479</td>\n",
       "      <td>4</td>\n",
       "      <td>548.739</td>\n",
       "      <td>486.525</td>\n",
       "      <td>2</td>\n",
       "      <td>3</td>\n",
       "      <td>4</td>\n",
       "      <td>95.039683</td>\n",
       "      <td>8</td>\n",
       "      <td>1</td>\n",
       "      <td>38.986472</td>\n",
       "      <td>3</td>\n",
       "      <td>6.118647</td>\n",
       "      <td>2.914279</td>\n",
       "    </tr>\n",
       "  </tbody>\n",
       "</table>\n",
       "</div>"
      ],
      "text/plain": [
       "     user_id  submission_count  problem_solved  follower_count  max_rating  \\\n",
       "0  user_3311                47              40               4     348.337   \n",
       "1  user_3028                63              52              17     405.677   \n",
       "2  user_2268               226             203              24     307.339   \n",
       "3   user_480               611             490              94     525.803   \n",
       "4   user_650               504             479               4     548.739   \n",
       "\n",
       "    rating  rank  submission_count_bins  problem_solved_bins  success_rate  \\\n",
       "0  330.849     1                      0                    0     85.106383   \n",
       "1  339.450     1                      0                    1     82.539683   \n",
       "2  284.404     0                      2                    2     89.823009   \n",
       "3  471.330     2                      3                    4     80.196399   \n",
       "4  486.525     2                      3                    4     95.039683   \n",
       "\n",
       "   country_new  follower_count_bins  age_in_platform  max_rating_bins  \\\n",
       "0            9                    1        14.438738                1   \n",
       "1            4                    2        22.031188                2   \n",
       "2            3                    3        19.791068                0   \n",
       "3            7                    4        59.620788                3   \n",
       "4            8                    1        38.986472                3   \n",
       "\n",
       "   registration_time  last_online_time  \n",
       "0           3.863258          2.676513  \n",
       "1           4.649443          2.838660  \n",
       "2           4.257057          2.630394  \n",
       "3           7.540517          2.640178  \n",
       "4           6.118647          2.914279  "
      ]
     },
     "execution_count": 50,
     "metadata": {},
     "output_type": "execute_result"
    }
   ],
   "source": [
    "user_df.head()"
   ]
  },
  {
   "cell_type": "markdown",
   "metadata": {},
   "source": [
    "Let's look at the problem data now"
   ]
  },
  {
   "cell_type": "code",
   "execution_count": 51,
   "metadata": {},
   "outputs": [],
   "source": [
    "problem_df = pd.read_csv(r'data/train/problem_data.csv')"
   ]
  },
  {
   "cell_type": "code",
   "execution_count": 52,
   "metadata": {},
   "outputs": [
    {
     "data": {
      "text/html": [
       "<div>\n",
       "<style scoped>\n",
       "    .dataframe tbody tr th:only-of-type {\n",
       "        vertical-align: middle;\n",
       "    }\n",
       "\n",
       "    .dataframe tbody tr th {\n",
       "        vertical-align: top;\n",
       "    }\n",
       "\n",
       "    .dataframe thead th {\n",
       "        text-align: right;\n",
       "    }\n",
       "</style>\n",
       "<table border=\"1\" class=\"dataframe\">\n",
       "  <thead>\n",
       "    <tr style=\"text-align: right;\">\n",
       "      <th></th>\n",
       "      <th>problem_id</th>\n",
       "      <th>level_type</th>\n",
       "      <th>points</th>\n",
       "      <th>tags</th>\n",
       "    </tr>\n",
       "  </thead>\n",
       "  <tbody>\n",
       "    <tr>\n",
       "      <th>0</th>\n",
       "      <td>prob_3649</td>\n",
       "      <td>H</td>\n",
       "      <td>NaN</td>\n",
       "      <td>NaN</td>\n",
       "    </tr>\n",
       "    <tr>\n",
       "      <th>1</th>\n",
       "      <td>prob_6191</td>\n",
       "      <td>A</td>\n",
       "      <td>NaN</td>\n",
       "      <td>NaN</td>\n",
       "    </tr>\n",
       "    <tr>\n",
       "      <th>2</th>\n",
       "      <td>prob_2020</td>\n",
       "      <td>F</td>\n",
       "      <td>NaN</td>\n",
       "      <td>NaN</td>\n",
       "    </tr>\n",
       "    <tr>\n",
       "      <th>3</th>\n",
       "      <td>prob_313</td>\n",
       "      <td>A</td>\n",
       "      <td>500.0</td>\n",
       "      <td>greedy,implementation</td>\n",
       "    </tr>\n",
       "    <tr>\n",
       "      <th>4</th>\n",
       "      <td>prob_101</td>\n",
       "      <td>A</td>\n",
       "      <td>500.0</td>\n",
       "      <td>constructive algorithms,greedy,math</td>\n",
       "    </tr>\n",
       "  </tbody>\n",
       "</table>\n",
       "</div>"
      ],
      "text/plain": [
       "  problem_id level_type  points                                 tags\n",
       "0  prob_3649          H     NaN                                  NaN\n",
       "1  prob_6191          A     NaN                                  NaN\n",
       "2  prob_2020          F     NaN                                  NaN\n",
       "3   prob_313          A   500.0                greedy,implementation\n",
       "4   prob_101          A   500.0  constructive algorithms,greedy,math"
      ]
     },
     "execution_count": 52,
     "metadata": {},
     "output_type": "execute_result"
    }
   ],
   "source": [
    "#lets look at the sample data for problem data.\n",
    "problem_df.head()"
   ]
  },
  {
   "cell_type": "code",
   "execution_count": 53,
   "metadata": {},
   "outputs": [
    {
     "name": "stdout",
     "output_type": "stream",
     "text": [
      "(6544, 4)\n",
      "problem_id       0\n",
      "level_type     133\n",
      "points        3917\n",
      "tags          3484\n",
      "dtype: int64\n",
      "problem_id    0.000000\n",
      "level_type    0.020324\n",
      "points        0.598564\n",
      "tags          0.532396\n",
      "dtype: float64\n"
     ]
    }
   ],
   "source": [
    "#let's look at the null values and the shape of the problem data\n",
    "print(problem_df.shape)\n",
    "print(problem_df.isna().sum())\n",
    "print(problem_df.isna().mean())"
   ]
  },
  {
   "cell_type": "code",
   "execution_count": 54,
   "metadata": {},
   "outputs": [
    {
     "data": {
      "text/plain": [
       "A    1042\n",
       "B    1017\n",
       "C     915\n",
       "D     850\n",
       "E     795\n",
       "F     421\n",
       "G     328\n",
       "H     272\n",
       "I     256\n",
       "J     212\n",
       "K     154\n",
       "L      99\n",
       "M      40\n",
       "N      10\n",
       "Name: level_type, dtype: int64"
      ]
     },
     "execution_count": 54,
     "metadata": {},
     "output_type": "execute_result"
    }
   ],
   "source": [
    "#let's look at the distribution of the level type\n",
    "problem_df.level_type.value_counts()"
   ]
  },
  {
   "cell_type": "code",
   "execution_count": 55,
   "metadata": {},
   "outputs": [
    {
     "data": {
      "text/plain": [
       "A    0.162533\n",
       "B    0.158634\n",
       "C    0.142723\n",
       "D    0.132585\n",
       "E    0.124006\n",
       "F    0.065668\n",
       "G    0.051162\n",
       "H    0.042427\n",
       "I    0.039931\n",
       "J    0.033068\n",
       "K    0.024021\n",
       "L    0.015442\n",
       "M    0.006239\n",
       "N    0.001560\n",
       "Name: level_type, dtype: float64"
      ]
     },
     "execution_count": 55,
     "metadata": {},
     "output_type": "execute_result"
    }
   ],
   "source": [
    "#let's look at the distribution of the level type\n",
    "problem_df.level_type.value_counts(normalize = True)"
   ]
  },
  {
   "cell_type": "code",
   "execution_count": 56,
   "metadata": {},
   "outputs": [],
   "source": [
    "#I will fill up the values based on the ratio of distribution\n",
    "#Getting all the ratios\n",
    "level_type_data = (problem_df[\"level_type\"].value_counts()/problem_df[\"level_type\"].count())\n",
    "\n",
    "#imputing missing values\n",
    "problem_df[\"level_type_new\"]= problem_df[\"level_type\"].fillna(pd.Series(np.random.choice(level_type_data.index,p=level_type_data.values, size=len(problem_df))))"
   ]
  },
  {
   "cell_type": "code",
   "execution_count": 57,
   "metadata": {},
   "outputs": [],
   "source": [
    "#Now I will have to label the level_type_new field\n",
    "level_type_dict = {'A':0, 'B':1, 'C':2, 'D':3,'E':4,'F':5,'G':6,'H':7,'I':8,'J':9,'K':10,'L':11,'M':12,'N':13}\n",
    "problem_df[\"level_type_new\"] = problem_df[\"level_type_new\"].apply(lambda x: level_type_dict[x])"
   ]
  },
  {
   "cell_type": "code",
   "execution_count": 58,
   "metadata": {},
   "outputs": [
    {
     "name": "stdout",
     "output_type": "stream",
     "text": [
      "1452.3818043395509\n",
      "0    500.0\n",
      "dtype: float64\n",
      "1500.0\n"
     ]
    }
   ],
   "source": [
    "print(problem_df[\"points\"].mean())\n",
    "print(problem_df[\"points\"].mode())\n",
    "print(problem_df[\"points\"].median())"
   ]
  },
  {
   "cell_type": "code",
   "execution_count": 59,
   "metadata": {},
   "outputs": [],
   "source": [
    "#imputing missing points values\n",
    "problem_df[\"points\"]= problem_df[\"points\"].fillna(problem_df[\"points\"].mean())\n",
    "#I will fill up the values based on the ratio of distribution\n",
    "#Getting all the ratios\n",
    "#points_data = (problem_df[\"points\"].value_counts()/problem_df[\"points\"].count())\n",
    "\n",
    "#imputing missing values for points\n",
    "#problem_df[\"points\"]= problem_df[\"points\"].fillna(pd.Series(np.random.choice(points_data.index,p=points_data.values, size=len(problem_df))))"
   ]
  },
  {
   "cell_type": "code",
   "execution_count": 60,
   "metadata": {},
   "outputs": [],
   "source": [
    "#I will remove level_type as there is a new field for that. tags should be removed as they have more than 50% null values\n",
    "problem_df.drop(columns = [\"level_type\",\"tags\"],axis = 1, inplace = True)"
   ]
  },
  {
   "cell_type": "code",
   "execution_count": 61,
   "metadata": {},
   "outputs": [
    {
     "data": {
      "text/html": [
       "<div>\n",
       "<style scoped>\n",
       "    .dataframe tbody tr th:only-of-type {\n",
       "        vertical-align: middle;\n",
       "    }\n",
       "\n",
       "    .dataframe tbody tr th {\n",
       "        vertical-align: top;\n",
       "    }\n",
       "\n",
       "    .dataframe thead th {\n",
       "        text-align: right;\n",
       "    }\n",
       "</style>\n",
       "<table border=\"1\" class=\"dataframe\">\n",
       "  <thead>\n",
       "    <tr style=\"text-align: right;\">\n",
       "      <th></th>\n",
       "      <th>problem_id</th>\n",
       "      <th>points</th>\n",
       "      <th>level_type_new</th>\n",
       "    </tr>\n",
       "  </thead>\n",
       "  <tbody>\n",
       "    <tr>\n",
       "      <th>0</th>\n",
       "      <td>prob_3649</td>\n",
       "      <td>1452.381804</td>\n",
       "      <td>7</td>\n",
       "    </tr>\n",
       "    <tr>\n",
       "      <th>1</th>\n",
       "      <td>prob_6191</td>\n",
       "      <td>1452.381804</td>\n",
       "      <td>0</td>\n",
       "    </tr>\n",
       "    <tr>\n",
       "      <th>2</th>\n",
       "      <td>prob_2020</td>\n",
       "      <td>1452.381804</td>\n",
       "      <td>5</td>\n",
       "    </tr>\n",
       "    <tr>\n",
       "      <th>3</th>\n",
       "      <td>prob_313</td>\n",
       "      <td>500.000000</td>\n",
       "      <td>0</td>\n",
       "    </tr>\n",
       "    <tr>\n",
       "      <th>4</th>\n",
       "      <td>prob_101</td>\n",
       "      <td>500.000000</td>\n",
       "      <td>0</td>\n",
       "    </tr>\n",
       "  </tbody>\n",
       "</table>\n",
       "</div>"
      ],
      "text/plain": [
       "  problem_id       points  level_type_new\n",
       "0  prob_3649  1452.381804               7\n",
       "1  prob_6191  1452.381804               0\n",
       "2  prob_2020  1452.381804               5\n",
       "3   prob_313   500.000000               0\n",
       "4   prob_101   500.000000               0"
      ]
     },
     "execution_count": 61,
     "metadata": {},
     "output_type": "execute_result"
    }
   ],
   "source": [
    "problem_df.head()"
   ]
  },
  {
   "cell_type": "code",
   "execution_count": 62,
   "metadata": {},
   "outputs": [
    {
     "data": {
      "text/html": [
       "<div>\n",
       "<style scoped>\n",
       "    .dataframe tbody tr th:only-of-type {\n",
       "        vertical-align: middle;\n",
       "    }\n",
       "\n",
       "    .dataframe tbody tr th {\n",
       "        vertical-align: top;\n",
       "    }\n",
       "\n",
       "    .dataframe thead th {\n",
       "        text-align: right;\n",
       "    }\n",
       "</style>\n",
       "<table border=\"1\" class=\"dataframe\">\n",
       "  <thead>\n",
       "    <tr style=\"text-align: right;\">\n",
       "      <th></th>\n",
       "      <th>user_id</th>\n",
       "      <th>problem_id</th>\n",
       "      <th>attempts_range</th>\n",
       "    </tr>\n",
       "  </thead>\n",
       "  <tbody>\n",
       "    <tr>\n",
       "      <th>0</th>\n",
       "      <td>user_232</td>\n",
       "      <td>prob_6507</td>\n",
       "      <td>1</td>\n",
       "    </tr>\n",
       "    <tr>\n",
       "      <th>1</th>\n",
       "      <td>user_3568</td>\n",
       "      <td>prob_2994</td>\n",
       "      <td>3</td>\n",
       "    </tr>\n",
       "    <tr>\n",
       "      <th>2</th>\n",
       "      <td>user_1600</td>\n",
       "      <td>prob_5071</td>\n",
       "      <td>1</td>\n",
       "    </tr>\n",
       "    <tr>\n",
       "      <th>3</th>\n",
       "      <td>user_2256</td>\n",
       "      <td>prob_703</td>\n",
       "      <td>1</td>\n",
       "    </tr>\n",
       "    <tr>\n",
       "      <th>4</th>\n",
       "      <td>user_2321</td>\n",
       "      <td>prob_356</td>\n",
       "      <td>1</td>\n",
       "    </tr>\n",
       "  </tbody>\n",
       "</table>\n",
       "</div>"
      ],
      "text/plain": [
       "     user_id problem_id  attempts_range\n",
       "0   user_232  prob_6507               1\n",
       "1  user_3568  prob_2994               3\n",
       "2  user_1600  prob_5071               1\n",
       "3  user_2256   prob_703               1\n",
       "4  user_2321   prob_356               1"
      ]
     },
     "execution_count": 62,
     "metadata": {},
     "output_type": "execute_result"
    }
   ],
   "source": [
    "train_submussion_df.head()"
   ]
  },
  {
   "cell_type": "code",
   "execution_count": 63,
   "metadata": {},
   "outputs": [
    {
     "data": {
      "text/plain": [
       "<matplotlib.axes._subplots.AxesSubplot at 0x4e253bbc88>"
      ]
     },
     "execution_count": 63,
     "metadata": {},
     "output_type": "execute_result"
    },
    {
     "data": {
      "image/png": "[encoded data removed]",
      "text/plain": [
       "<Figure size 432x288 with 1 Axes>"
      ]
     },
     "metadata": {
      "needs_background": "light"
     },
     "output_type": "display_data"
    }
   ],
   "source": [
    "#let's look at the distribution of the attempts range\n",
    "sns.distplot(train_submussion_df[\"attempts_range\"])"
   ]
  },
  {
   "cell_type": "code",
   "execution_count": 64,
   "metadata": {},
   "outputs": [
    {
     "data": {
      "text/plain": [
       "1    0.533205\n",
       "2    0.304710\n",
       "3    0.091072\n",
       "4    0.035410\n",
       "6    0.019531\n",
       "5    0.016073\n",
       "Name: attempts_range, dtype: float64"
      ]
     },
     "execution_count": 64,
     "metadata": {},
     "output_type": "execute_result"
    }
   ],
   "source": [
    "train_submussion_df[\"attempts_range\"].value_counts(normalize = True)"
   ]
  },
  {
   "cell_type": "code",
   "execution_count": 65,
   "metadata": {},
   "outputs": [],
   "source": [
    "#merge train submission and user data\n",
    "train_df = pd.merge(train_submussion_df,user_df,how = 'left',on = \"user_id\")\n",
    "test_df = pd.merge(test_submussion_df,user_df,how = 'left',on = \"user_id\")"
   ]
  },
  {
   "cell_type": "code",
   "execution_count": 66,
   "metadata": {},
   "outputs": [],
   "source": [
    "#merge train data and problem data\n",
    "train_df = pd.merge(train_df,problem_df,how = 'left',on = \"problem_id\")\n",
    "test_df = pd.merge(test_df,problem_df,how = 'left',on = \"problem_id\")"
   ]
  },
  {
   "cell_type": "code",
   "execution_count": 67,
   "metadata": {},
   "outputs": [],
   "source": [
    "#create ID field for train data, ID already there for test data\n",
    "train_df[\"ID\"] = train_df[\"user_id\"] + train_df[\"problem_id\"]"
   ]
  },
  {
   "cell_type": "code",
   "execution_count": 68,
   "metadata": {},
   "outputs": [
    {
     "data": {
      "text/html": [
       "<div>\n",
       "<style scoped>\n",
       "    .dataframe tbody tr th:only-of-type {\n",
       "        vertical-align: middle;\n",
       "    }\n",
       "\n",
       "    .dataframe tbody tr th {\n",
       "        vertical-align: top;\n",
       "    }\n",
       "\n",
       "    .dataframe thead th {\n",
       "        text-align: right;\n",
       "    }\n",
       "</style>\n",
       "<table border=\"1\" class=\"dataframe\">\n",
       "  <thead>\n",
       "    <tr style=\"text-align: right;\">\n",
       "      <th></th>\n",
       "      <th>user_id</th>\n",
       "      <th>problem_id</th>\n",
       "      <th>attempts_range</th>\n",
       "      <th>submission_count</th>\n",
       "      <th>problem_solved</th>\n",
       "      <th>follower_count</th>\n",
       "      <th>max_rating</th>\n",
       "      <th>rating</th>\n",
       "      <th>rank</th>\n",
       "      <th>submission_count_bins</th>\n",
       "      <th>...</th>\n",
       "      <th>success_rate</th>\n",
       "      <th>country_new</th>\n",
       "      <th>follower_count_bins</th>\n",
       "      <th>age_in_platform</th>\n",
       "      <th>max_rating_bins</th>\n",
       "      <th>registration_time</th>\n",
       "      <th>last_online_time</th>\n",
       "      <th>points</th>\n",
       "      <th>level_type_new</th>\n",
       "      <th>ID</th>\n",
       "    </tr>\n",
       "  </thead>\n",
       "  <tbody>\n",
       "    <tr>\n",
       "      <th>0</th>\n",
       "      <td>user_232</td>\n",
       "      <td>prob_6507</td>\n",
       "      <td>1</td>\n",
       "      <td>53</td>\n",
       "      <td>47</td>\n",
       "      <td>1</td>\n",
       "      <td>307.913</td>\n",
       "      <td>206.709</td>\n",
       "      <td>0</td>\n",
       "      <td>0</td>\n",
       "      <td>...</td>\n",
       "      <td>88.679245</td>\n",
       "      <td>0</td>\n",
       "      <td>0</td>\n",
       "      <td>27.593689</td>\n",
       "      <td>0</td>\n",
       "      <td>4.959640</td>\n",
       "      <td>2.691666</td>\n",
       "      <td>1000.0</td>\n",
       "      <td>1</td>\n",
       "      <td>user_232prob_6507</td>\n",
       "    </tr>\n",
       "    <tr>\n",
       "      <th>1</th>\n",
       "      <td>user_3568</td>\n",
       "      <td>prob_2994</td>\n",
       "      <td>3</td>\n",
       "      <td>133</td>\n",
       "      <td>118</td>\n",
       "      <td>0</td>\n",
       "      <td>324.255</td>\n",
       "      <td>235.378</td>\n",
       "      <td>0</td>\n",
       "      <td>1</td>\n",
       "      <td>...</td>\n",
       "      <td>88.721805</td>\n",
       "      <td>7</td>\n",
       "      <td>0</td>\n",
       "      <td>18.339394</td>\n",
       "      <td>1</td>\n",
       "      <td>4.244474</td>\n",
       "      <td>2.737127</td>\n",
       "      <td>1500.0</td>\n",
       "      <td>2</td>\n",
       "      <td>user_3568prob_2994</td>\n",
       "    </tr>\n",
       "    <tr>\n",
       "      <th>2</th>\n",
       "      <td>user_1600</td>\n",
       "      <td>prob_5071</td>\n",
       "      <td>1</td>\n",
       "      <td>50</td>\n",
       "      <td>44</td>\n",
       "      <td>7</td>\n",
       "      <td>343.177</td>\n",
       "      <td>229.358</td>\n",
       "      <td>0</td>\n",
       "      <td>0</td>\n",
       "      <td>...</td>\n",
       "      <td>88.000000</td>\n",
       "      <td>7</td>\n",
       "      <td>1</td>\n",
       "      <td>12.048098</td>\n",
       "      <td>1</td>\n",
       "      <td>3.647491</td>\n",
       "      <td>2.657236</td>\n",
       "      <td>500.0</td>\n",
       "      <td>0</td>\n",
       "      <td>user_1600prob_5071</td>\n",
       "    </tr>\n",
       "    <tr>\n",
       "      <th>3</th>\n",
       "      <td>user_2256</td>\n",
       "      <td>prob_703</td>\n",
       "      <td>1</td>\n",
       "      <td>271</td>\n",
       "      <td>233</td>\n",
       "      <td>40</td>\n",
       "      <td>436.927</td>\n",
       "      <td>399.083</td>\n",
       "      <td>1</td>\n",
       "      <td>2</td>\n",
       "      <td>...</td>\n",
       "      <td>85.977860</td>\n",
       "      <td>7</td>\n",
       "      <td>3</td>\n",
       "      <td>22.159904</td>\n",
       "      <td>2</td>\n",
       "      <td>4.464152</td>\n",
       "      <td>2.642790</td>\n",
       "      <td>500.0</td>\n",
       "      <td>0</td>\n",
       "      <td>user_2256prob_703</td>\n",
       "    </tr>\n",
       "    <tr>\n",
       "      <th>4</th>\n",
       "      <td>user_2321</td>\n",
       "      <td>prob_356</td>\n",
       "      <td>1</td>\n",
       "      <td>155</td>\n",
       "      <td>135</td>\n",
       "      <td>80</td>\n",
       "      <td>492.546</td>\n",
       "      <td>472.190</td>\n",
       "      <td>2</td>\n",
       "      <td>1</td>\n",
       "      <td>...</td>\n",
       "      <td>87.096774</td>\n",
       "      <td>4</td>\n",
       "      <td>4</td>\n",
       "      <td>26.117744</td>\n",
       "      <td>3</td>\n",
       "      <td>4.781630</td>\n",
       "      <td>2.634966</td>\n",
       "      <td>2000.0</td>\n",
       "      <td>3</td>\n",
       "      <td>user_2321prob_356</td>\n",
       "    </tr>\n",
       "  </tbody>\n",
       "</table>\n",
       "<p>5 rows × 21 columns</p>\n",
       "</div>"
      ],
      "text/plain": [
       "     user_id problem_id  attempts_range  submission_count  problem_solved  \\\n",
       "0   user_232  prob_6507               1                53              47   \n",
       "1  user_3568  prob_2994               3               133             118   \n",
       "2  user_1600  prob_5071               1                50              44   \n",
       "3  user_2256   prob_703               1               271             233   \n",
       "4  user_2321   prob_356               1               155             135   \n",
       "\n",
       "   follower_count  max_rating   rating  rank  submission_count_bins  ...  \\\n",
       "0               1     307.913  206.709     0                      0  ...   \n",
       "1               0     324.255  235.378     0                      1  ...   \n",
       "2               7     343.177  229.358     0                      0  ...   \n",
       "3              40     436.927  399.083     1                      2  ...   \n",
       "4              80     492.546  472.190     2                      1  ...   \n",
       "\n",
       "   success_rate  country_new  follower_count_bins  age_in_platform  \\\n",
       "0     88.679245            0                    0        27.593689   \n",
       "1     88.721805            7                    0        18.339394   \n",
       "2     88.000000            7                    1        12.048098   \n",
       "3     85.977860            7                    3        22.159904   \n",
       "4     87.096774            4                    4        26.117744   \n",
       "\n",
       "   max_rating_bins  registration_time  last_online_time  points  \\\n",
       "0                0           4.959640          2.691666  1000.0   \n",
       "1                1           4.244474          2.737127  1500.0   \n",
       "2                1           3.647491          2.657236   500.0   \n",
       "3                2           4.464152          2.642790   500.0   \n",
       "4                3           4.781630          2.634966  2000.0   \n",
       "\n",
       "   level_type_new                  ID  \n",
       "0               1   user_232prob_6507  \n",
       "1               2  user_3568prob_2994  \n",
       "2               0  user_1600prob_5071  \n",
       "3               0   user_2256prob_703  \n",
       "4               3   user_2321prob_356  \n",
       "\n",
       "[5 rows x 21 columns]"
      ]
     },
     "execution_count": 68,
     "metadata": {},
     "output_type": "execute_result"
    }
   ],
   "source": [
    "train_df.head()"
   ]
  },
  {
   "cell_type": "code",
   "execution_count": 69,
   "metadata": {},
   "outputs": [
    {
     "data": {
      "text/html": [
       "<div>\n",
       "<style scoped>\n",
       "    .dataframe tbody tr th:only-of-type {\n",
       "        vertical-align: middle;\n",
       "    }\n",
       "\n",
       "    .dataframe tbody tr th {\n",
       "        vertical-align: top;\n",
       "    }\n",
       "\n",
       "    .dataframe thead th {\n",
       "        text-align: right;\n",
       "    }\n",
       "</style>\n",
       "<table border=\"1\" class=\"dataframe\">\n",
       "  <thead>\n",
       "    <tr style=\"text-align: right;\">\n",
       "      <th></th>\n",
       "      <th>ID</th>\n",
       "      <th>user_id</th>\n",
       "      <th>problem_id</th>\n",
       "      <th>submission_count</th>\n",
       "      <th>problem_solved</th>\n",
       "      <th>follower_count</th>\n",
       "      <th>max_rating</th>\n",
       "      <th>rating</th>\n",
       "      <th>rank</th>\n",
       "      <th>submission_count_bins</th>\n",
       "      <th>problem_solved_bins</th>\n",
       "      <th>success_rate</th>\n",
       "      <th>country_new</th>\n",
       "      <th>follower_count_bins</th>\n",
       "      <th>age_in_platform</th>\n",
       "      <th>max_rating_bins</th>\n",
       "      <th>registration_time</th>\n",
       "      <th>last_online_time</th>\n",
       "      <th>points</th>\n",
       "      <th>level_type_new</th>\n",
       "    </tr>\n",
       "  </thead>\n",
       "  <tbody>\n",
       "    <tr>\n",
       "      <th>0</th>\n",
       "      <td>user_856_prob_5822</td>\n",
       "      <td>user_856</td>\n",
       "      <td>prob_5822</td>\n",
       "      <td>274</td>\n",
       "      <td>231</td>\n",
       "      <td>35</td>\n",
       "      <td>393.062</td>\n",
       "      <td>362.959</td>\n",
       "      <td>1</td>\n",
       "      <td>2</td>\n",
       "      <td>3</td>\n",
       "      <td>84.306569</td>\n",
       "      <td>4</td>\n",
       "      <td>3</td>\n",
       "      <td>31.277303</td>\n",
       "      <td>2</td>\n",
       "      <td>5.275083</td>\n",
       "      <td>2.704345</td>\n",
       "      <td>1452.381804</td>\n",
       "      <td>11</td>\n",
       "    </tr>\n",
       "    <tr>\n",
       "      <th>1</th>\n",
       "      <td>user_2642_prob_2334</td>\n",
       "      <td>user_2642</td>\n",
       "      <td>prob_2334</td>\n",
       "      <td>124</td>\n",
       "      <td>114</td>\n",
       "      <td>8</td>\n",
       "      <td>307.053</td>\n",
       "      <td>146.502</td>\n",
       "      <td>0</td>\n",
       "      <td>1</td>\n",
       "      <td>2</td>\n",
       "      <td>91.935484</td>\n",
       "      <td>4</td>\n",
       "      <td>1</td>\n",
       "      <td>25.299704</td>\n",
       "      <td>0</td>\n",
       "      <td>4.709804</td>\n",
       "      <td>2.630377</td>\n",
       "      <td>500.000000</td>\n",
       "      <td>0</td>\n",
       "    </tr>\n",
       "    <tr>\n",
       "      <th>2</th>\n",
       "      <td>user_2557_prob_2920</td>\n",
       "      <td>user_2557</td>\n",
       "      <td>prob_2920</td>\n",
       "      <td>367</td>\n",
       "      <td>283</td>\n",
       "      <td>76</td>\n",
       "      <td>321.674</td>\n",
       "      <td>241.399</td>\n",
       "      <td>0</td>\n",
       "      <td>2</td>\n",
       "      <td>3</td>\n",
       "      <td>77.111717</td>\n",
       "      <td>0</td>\n",
       "      <td>4</td>\n",
       "      <td>42.214172</td>\n",
       "      <td>1</td>\n",
       "      <td>6.099427</td>\n",
       "      <td>2.629769</td>\n",
       "      <td>500.000000</td>\n",
       "      <td>0</td>\n",
       "    </tr>\n",
       "    <tr>\n",
       "      <th>3</th>\n",
       "      <td>user_1572_prob_4598</td>\n",
       "      <td>user_1572</td>\n",
       "      <td>prob_4598</td>\n",
       "      <td>203</td>\n",
       "      <td>181</td>\n",
       "      <td>29</td>\n",
       "      <td>473.050</td>\n",
       "      <td>454.989</td>\n",
       "      <td>1</td>\n",
       "      <td>2</td>\n",
       "      <td>2</td>\n",
       "      <td>89.162562</td>\n",
       "      <td>7</td>\n",
       "      <td>3</td>\n",
       "      <td>31.399209</td>\n",
       "      <td>3</td>\n",
       "      <td>5.282734</td>\n",
       "      <td>2.701978</td>\n",
       "      <td>1000.000000</td>\n",
       "      <td>1</td>\n",
       "    </tr>\n",
       "    <tr>\n",
       "      <th>4</th>\n",
       "      <td>user_295_prob_6139</td>\n",
       "      <td>user_295</td>\n",
       "      <td>prob_6139</td>\n",
       "      <td>113</td>\n",
       "      <td>89</td>\n",
       "      <td>3</td>\n",
       "      <td>455.275</td>\n",
       "      <td>448.108</td>\n",
       "      <td>1</td>\n",
       "      <td>1</td>\n",
       "      <td>1</td>\n",
       "      <td>78.761062</td>\n",
       "      <td>7</td>\n",
       "      <td>1</td>\n",
       "      <td>15.541807</td>\n",
       "      <td>3</td>\n",
       "      <td>4.257380</td>\n",
       "      <td>2.979971</td>\n",
       "      <td>500.000000</td>\n",
       "      <td>0</td>\n",
       "    </tr>\n",
       "  </tbody>\n",
       "</table>\n",
       "</div>"
      ],
      "text/plain": [
       "                    ID    user_id problem_id  submission_count  \\\n",
       "0   user_856_prob_5822   user_856  prob_5822               274   \n",
       "1  user_2642_prob_2334  user_2642  prob_2334               124   \n",
       "2  user_2557_prob_2920  user_2557  prob_2920               367   \n",
       "3  user_1572_prob_4598  user_1572  prob_4598               203   \n",
       "4   user_295_prob_6139   user_295  prob_6139               113   \n",
       "\n",
       "   problem_solved  follower_count  max_rating   rating  rank  \\\n",
       "0             231              35     393.062  362.959     1   \n",
       "1             114               8     307.053  146.502     0   \n",
       "2             283              76     321.674  241.399     0   \n",
       "3             181              29     473.050  454.989     1   \n",
       "4              89               3     455.275  448.108     1   \n",
       "\n",
       "   submission_count_bins  problem_solved_bins  success_rate  country_new  \\\n",
       "0                      2                    3     84.306569            4   \n",
       "1                      1                    2     91.935484            4   \n",
       "2                      2                    3     77.111717            0   \n",
       "3                      2                    2     89.162562            7   \n",
       "4                      1                    1     78.761062            7   \n",
       "\n",
       "   follower_count_bins  age_in_platform  max_rating_bins  registration_time  \\\n",
       "0                    3        31.277303                2           5.275083   \n",
       "1                    1        25.299704                0           4.709804   \n",
       "2                    4        42.214172                1           6.099427   \n",
       "3                    3        31.399209                3           5.282734   \n",
       "4                    1        15.541807                3           4.257380   \n",
       "\n",
       "   last_online_time       points  level_type_new  \n",
       "0          2.704345  1452.381804              11  \n",
       "1          2.630377   500.000000               0  \n",
       "2          2.629769   500.000000               0  \n",
       "3          2.701978  1000.000000               1  \n",
       "4          2.979971   500.000000               0  "
      ]
     },
     "execution_count": 69,
     "metadata": {},
     "output_type": "execute_result"
    }
   ],
   "source": [
    "test_df.head()"
   ]
  },
  {
   "cell_type": "code",
   "execution_count": 70,
   "metadata": {},
   "outputs": [],
   "source": [
    "#user_id count - number of times user is appearing\n",
    "train_df['user_id_count'] = train_df.groupby('user_id')['user_id'].transform('count')\n",
    "test_df['user_id_count'] = train_df.groupby('user_id')['user_id'].transform('count')"
   ]
  },
  {
   "cell_type": "code",
   "execution_count": 71,
   "metadata": {},
   "outputs": [],
   "source": [
    "#problem_id count - number of times problem is appearing\n",
    "train_df['problem_id_count'] = train_df.groupby('problem_id')['problem_id'].transform('count')\n",
    "test_df['problem_id_count'] = train_df.groupby('problem_id')['problem_id'].transform('count')"
   ]
  },
  {
   "cell_type": "code",
   "execution_count": 72,
   "metadata": {},
   "outputs": [],
   "source": [
    "#user id min attempts\n",
    "train_df['user_id_min_attempts'] = train_df.groupby('user_id')['attempts_range'].transform('min')\n",
    "test_df['user_id_min_attempts'] = train_df.groupby('user_id')['attempts_range'].transform('min')"
   ]
  },
  {
   "cell_type": "code",
   "execution_count": 73,
   "metadata": {},
   "outputs": [],
   "source": [
    "#user id max attempts\n",
    "train_df['user_id_max_attempts'] = train_df.groupby('user_id')['attempts_range'].transform('max')\n",
    "test_df['user_id_max_attempts'] = train_df.groupby('user_id')['attempts_range'].transform('max')"
   ]
  },
  {
   "cell_type": "code",
   "execution_count": 74,
   "metadata": {},
   "outputs": [],
   "source": [
    "#user id mean attempts\n",
    "train_df['user_id_mean_attempts'] = train_df.groupby('user_id')['attempts_range'].transform('mean')\n",
    "test_df['user_id_mean_attempts'] = train_df.groupby('user_id')['attempts_range'].transform('mean')"
   ]
  },
  {
   "cell_type": "code",
   "execution_count": 75,
   "metadata": {},
   "outputs": [],
   "source": [
    "#problem id min attempts\n",
    "train_df['problem_id_min_attempts'] = train_df.groupby('problem_id')['attempts_range'].transform('min')\n",
    "test_df['problem_id_min_attempts'] = train_df.groupby('problem_id')['attempts_range'].transform('min')"
   ]
  },
  {
   "cell_type": "code",
   "execution_count": 76,
   "metadata": {},
   "outputs": [],
   "source": [
    "#problem id max attempts\n",
    "train_df['problem_id_max_attempts'] = train_df.groupby('problem_id')['attempts_range'].transform('max')\n",
    "test_df['problem_id_max_attempts'] = train_df.groupby('problem_id')['attempts_range'].transform('max')"
   ]
  },
  {
   "cell_type": "code",
   "execution_count": 77,
   "metadata": {},
   "outputs": [],
   "source": [
    "#problem id mean attempts\n",
    "train_df['problem_id_mean_attempts'] = train_df.groupby('problem_id')['attempts_range'].transform('mean')\n",
    "test_df['problem_id_mean_attempts'] = train_df.groupby('problem_id')['attempts_range'].transform('mean')"
   ]
  },
  {
   "cell_type": "code",
   "execution_count": 78,
   "metadata": {},
   "outputs": [],
   "source": [
    "#user id min level\n",
    "train_df['user_id_min_level'] = train_df.groupby('user_id')['level_type_new'].transform('min')\n",
    "test_df['user_id_min_level'] = train_df.groupby('user_id')['level_type_new'].transform('min')"
   ]
  },
  {
   "cell_type": "code",
   "execution_count": 79,
   "metadata": {},
   "outputs": [],
   "source": [
    "#user id max level\n",
    "train_df['user_id_max_level'] = train_df.groupby('user_id')['level_type_new'].transform('max')\n",
    "test_df['user_id_max_level'] = train_df.groupby('user_id')['level_type_new'].transform('max')"
   ]
  },
  {
   "cell_type": "code",
   "execution_count": 80,
   "metadata": {},
   "outputs": [],
   "source": [
    "#user id mean level\n",
    "train_df['user_id_mean_level'] = train_df.groupby('user_id')['level_type_new'].transform('mean')\n",
    "test_df['user_id_mean_level'] = train_df.groupby('user_id')['level_type_new'].transform('mean')"
   ]
  },
  {
   "cell_type": "code",
   "execution_count": 81,
   "metadata": {},
   "outputs": [],
   "source": [
    "train_df['country_percent'] = train_df.groupby('country_new')['country_new'].transform('count')/len(train_df)\n",
    "test_df['country_percent'] = train_df.groupby('country_new')['country_new'].transform('count')/len(train_df)"
   ]
  },
  {
   "cell_type": "code",
   "execution_count": 82,
   "metadata": {},
   "outputs": [
    {
     "name": "stdout",
     "output_type": "stream",
     "text": [
      "(33,)\n",
      "(32,)\n"
     ]
    }
   ],
   "source": [
    "print(train_df.columns.shape)\n",
    "print(test_df.columns.shape)"
   ]
  },
  {
   "cell_type": "code",
   "execution_count": 83,
   "metadata": {},
   "outputs": [],
   "source": [
    "train_df.to_csv(r'data/train/train_df_fullfeature.csv', index=False)\n",
    "test_df.to_csv(r'data/train/test_df_fullfeature.csv', index=False)"
   ]
  },
  {
   "cell_type": "code",
   "execution_count": 84,
   "metadata": {},
   "outputs": [],
   "source": [
    "train_df_ff = pd.read_csv(r'data/train/train_df_fullfeature.csv')\n",
    "test_df_ff = pd.read_csv(r'data/train/test_df_fullfeature.csv')"
   ]
  },
  {
   "cell_type": "code",
   "execution_count": 85,
   "metadata": {},
   "outputs": [
    {
     "name": "stdout",
     "output_type": "stream",
     "text": [
      "(33,)\n",
      "(32,)\n"
     ]
    }
   ],
   "source": [
    "print(train_df_ff.columns.shape)\n",
    "print(test_df_ff.columns.shape)"
   ]
  },
  {
   "cell_type": "code",
   "execution_count": 86,
   "metadata": {},
   "outputs": [],
   "source": [
    "#define X\n",
    "X = train_df_ff.drop(columns=['user_id','problem_id','ID','attempts_range'],axis=1)"
   ]
  },
  {
   "cell_type": "code",
   "execution_count": 87,
   "metadata": {},
   "outputs": [],
   "source": [
    "#define y\n",
    "y = train_df_ff[\"attempts_range\"]"
   ]
  },
  {
   "cell_type": "code",
   "execution_count": 88,
   "metadata": {},
   "outputs": [],
   "source": [
    "#split training data into training set and test set\n",
    "X_train, X_test, y_train, y_test = train_test_split(X, y, test_size=0.25)"
   ]
  },
  {
   "cell_type": "code",
   "execution_count": 89,
   "metadata": {},
   "outputs": [],
   "source": [
    "xgbC = XGBClassifier(colsample_bytree= 0.8, gamma= 2,learning_rate= 0.05,max_depth= 10,min_child_weight= 3,n_estimators= 300,objective= \"multi:softprob\",subsample= 0.8)\n",
    "#xgbC = XGBClassifier(n_estimators= 300)"
   ]
  },
  {
   "cell_type": "code",
   "execution_count": 90,
   "metadata": {},
   "outputs": [
    {
     "data": {
      "text/plain": [
       "XGBClassifier(base_score=0.5, booster='gbtree', colsample_bylevel=1,\n",
       "              colsample_bynode=1, colsample_bytree=0.8, gamma=2,\n",
       "              learning_rate=0.05, max_delta_step=0, max_depth=10,\n",
       "              min_child_weight=3, missing=None, n_estimators=300, n_jobs=1,\n",
       "              nthread=None, objective='multi:softprob', random_state=0,\n",
       "              reg_alpha=0, reg_lambda=1, scale_pos_weight=1, seed=None,\n",
       "              silent=None, subsample=0.8, verbosity=1)"
      ]
     },
     "execution_count": 90,
     "metadata": {},
     "output_type": "execute_result"
    }
   ],
   "source": [
    "xgbC.fit(X_train,y_train)"
   ]
  },
  {
   "cell_type": "code",
   "execution_count": 91,
   "metadata": {},
   "outputs": [],
   "source": [
    "y_test_pred = xgbC.predict(X_test)"
   ]
  },
  {
   "cell_type": "code",
   "execution_count": 92,
   "metadata": {},
   "outputs": [
    {
     "data": {
      "text/plain": [
       "0.5843035235936535"
      ]
     },
     "execution_count": 92,
     "metadata": {},
     "output_type": "execute_result"
    }
   ],
   "source": [
    "accuracy_score(y_test, y_test_pred)"
   ]
  },
  {
   "cell_type": "code",
   "execution_count": 93,
   "metadata": {},
   "outputs": [
    {
     "data": {
      "text/plain": [
       "0.5430746182551953"
      ]
     },
     "execution_count": 93,
     "metadata": {},
     "output_type": "execute_result"
    }
   ],
   "source": [
    "f1_score(y_test, y_test_pred, average='weighted')"
   ]
  },
  {
   "cell_type": "code",
   "execution_count": 94,
   "metadata": {},
   "outputs": [],
   "source": [
    "#use random forest regressor\n",
    "from sklearn.ensemble import RandomForestClassifier\n",
    "RF = RandomForestClassifier(max_depth=5, min_samples_leaf=100)"
   ]
  },
  {
   "cell_type": "code",
   "execution_count": 95,
   "metadata": {},
   "outputs": [
    {
     "data": {
      "text/plain": [
       "RandomForestClassifier(bootstrap=True, ccp_alpha=0.0, class_weight=None,\n",
       "                       criterion='gini', max_depth=5, max_features='auto',\n",
       "                       max_leaf_nodes=None, max_samples=None,\n",
       "                       min_impurity_decrease=0.0, min_impurity_split=None,\n",
       "                       min_samples_leaf=100, min_samples_split=2,\n",
       "                       min_weight_fraction_leaf=0.0, n_estimators=100,\n",
       "                       n_jobs=None, oob_score=False, random_state=None,\n",
       "                       verbose=0, warm_start=False)"
      ]
     },
     "execution_count": 95,
     "metadata": {},
     "output_type": "execute_result"
    }
   ],
   "source": [
    "#fit the model\n",
    "RF.fit(X_train,y_train)"
   ]
  },
  {
   "cell_type": "code",
   "execution_count": 96,
   "metadata": {},
   "outputs": [],
   "source": [
    "y_test_pred = xgbC.predict(X_test)"
   ]
  },
  {
   "cell_type": "code",
   "execution_count": 97,
   "metadata": {},
   "outputs": [
    {
     "data": {
      "text/plain": [
       "0.5843035235936535"
      ]
     },
     "execution_count": 97,
     "metadata": {},
     "output_type": "execute_result"
    }
   ],
   "source": [
    "from sklearn.metrics import accuracy_score\n",
    "accuracy_score(y_test, y_test_pred)"
   ]
  },
  {
   "cell_type": "code",
   "execution_count": 98,
   "metadata": {},
   "outputs": [
    {
     "data": {
      "text/plain": [
       "0.5430746182551953"
      ]
     },
     "execution_count": 98,
     "metadata": {},
     "output_type": "execute_result"
    }
   ],
   "source": [
    "from sklearn.metrics import f1_score\n",
    "f1_score(y_test, y_test_pred, average='weighted')"
   ]
  }
 ],
 "metadata": {
  "kernelspec": {
   "display_name": "Python 3",
   "language": "python",
   "name": "python3"
  },
  "language_info": {
   "codemirror_mode": {
    "name": "ipython",
    "version": 3
   },
   "file_extension": ".py",
   "mimetype": "text/x-python",
   "name": "python",
   "nbconvert_exporter": "python",
   "pygments_lexer": "ipython3",
   "version": "3.7.6"
  }
 },
 "nbformat": 4,
 "nbformat_minor": 4
}
