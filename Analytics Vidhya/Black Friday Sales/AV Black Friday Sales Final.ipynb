{
 "cells": [
  {
   "cell_type": "markdown",
   "metadata": {},
   "source": [
    "Competition Link: https://datahack.analyticsvidhya.com/contest/black-friday/\n",
    "\n",
    "A retail company “ABC Private Limited” wants to understand the customer purchase behaviour (specifically, purchase amount) against various products of different categories. They have shared purchase summary of various customers for selected high volume products from last month.\n",
    "The data set also contains customer demographics (age, gender, marital status, city_type, stay_in_current_city), product details (product_id and product category) and Total purchase_amount from last month.\n",
    "\n",
    "Now, they want to build a model to predict the purchase amount of customer against various products which will help them to create personalized offer for customers against different products.\n",
    "\n",
    "Your model performance will be evaluated on the basis of your prediction of the purchase amount for the test data (test.csv), which contains similar data-points as train except for their purchase amount. Your submission needs to be in the format as shown in \"SampleSubmission.csv\".\n",
    "\n",
    "We at our end, have the actual purchase amount for the test dataset, against which your predictions will be evaluated. Submissions are scored on the root mean squared error (RMSE)."
   ]
  },
  {
   "cell_type": "code",
   "execution_count": 1,
   "metadata": {},
   "outputs": [],
   "source": [
    "#Necessary imports for viewing data\n",
    "import pandas as pd\n",
    "import numpy as np\n",
    "import seaborn as sns\n",
    "import xgboost as xgb\n",
    "from sklearn.model_selection import train_test_split"
   ]
  },
  {
   "cell_type": "code",
   "execution_count": 2,
   "metadata": {},
   "outputs": [],
   "source": [
    "#Loading test and train data set\n",
    "train_df = pd.read_csv(r'train.csv')\n",
    "test_df = pd.read_csv(r'test.csv')"
   ]
  },
  {
   "cell_type": "markdown",
   "metadata": {},
   "source": [
    "There are 12 columns:\n",
    "User_ID, Product_ID, Gender, Age, Occupation, City_Category, Stay_In_Current_City_Years, Marital_Status, Product_Category_1, Product_Category_2, Product_Category_3, Purchase\n",
    "\n",
    "Target column is Purchase"
   ]
  },
  {
   "cell_type": "markdown",
   "metadata": {},
   "source": [
    "We need to convert the categorical variables into numbers. They are:\n",
    "<br> Gender\n",
    "<br> Age\n",
    "<br> City_Category\n",
    "<br> Stay_In_Current_City\n",
    "<br> Define dictionaries to convert the categorical features into numeric"
   ]
  },
  {
   "cell_type": "code",
   "execution_count": 3,
   "metadata": {},
   "outputs": [],
   "source": [
    "gender_dict = {'F':0, 'M':1}\n",
    "age_dict = {'0-17':0, '18-25':1, '26-35':2, '36-45':3, '46-50':4, '51-55':5, '55+':6}\n",
    "city_dict = {'A':0, 'B':1, 'C':2}\n",
    "stay_dict = {'0':0, '1':1, '2':2, '3':3, '4+':4}"
   ]
  },
  {
   "cell_type": "markdown",
   "metadata": {},
   "source": [
    "Use the dictionary above to convert the categorical variables into numeric"
   ]
  },
  {
   "cell_type": "code",
   "execution_count": 4,
   "metadata": {},
   "outputs": [],
   "source": [
    "train_df[\"Gender\"] = train_df[\"Gender\"].apply(lambda x: gender_dict[x])\n",
    "train_df[\"Age\"] = train_df[\"Age\"].apply(lambda x: age_dict[x])\n",
    "train_df[\"City_Category\"] = train_df[\"City_Category\"].apply(lambda x: city_dict[x])\n",
    "train_df[\"Stay_In_Current_City_Years\"] = train_df[\"Stay_In_Current_City_Years\"].apply(lambda x: stay_dict[x])"
   ]
  },
  {
   "cell_type": "markdown",
   "metadata": {},
   "source": [
    "Now let's create a function to give the count of the features"
   ]
  },
  {
   "cell_type": "code",
   "execution_count": 5,
   "metadata": {},
   "outputs": [],
   "source": [
    "def getCountofVar(dataset_df, var_name):\n",
    "    var_name_grouped = dataset_df.groupby(var_name)\n",
    "    count_dict = {}\n",
    "    for name, group in var_name_grouped:\n",
    "        count_dict[name] = group.shape[0]\n",
    "    count_list = []\n",
    "    for index, row in dataset_df.iterrows():\n",
    "        name = row[var_name]\n",
    "        count_list.append(count_dict.get(name, 0))\n",
    "    return count_list"
   ]
  },
  {
   "cell_type": "markdown",
   "metadata": {},
   "source": [
    "get counts for all other features"
   ]
  },
  {
   "cell_type": "code",
   "execution_count": 6,
   "metadata": {},
   "outputs": [],
   "source": [
    "train_df[\"User_ID_Count\"] = getCountofVar(train_df,\"User_ID\")\n",
    "train_df[\"Product_ID_Count\"] = getCountofVar(train_df,\"Product_ID\")\n",
    "train_df[\"Gender_Count\"] = getCountofVar(train_df,\"Gender\")\n",
    "train_df[\"Age_Count\"] = getCountofVar(train_df,\"Age\")\n",
    "train_df[\"Occupation_Count\"] = getCountofVar(train_df,\"Occupation\")\n",
    "train_df[\"City_Count\"] = getCountofVar(train_df,\"City_Category\")\n",
    "train_df[\"Stay_Count\"] = getCountofVar(train_df,\"Stay_In_Current_City_Years\")\n",
    "train_df[\"Marital_Status_Count\"] = getCountofVar(train_df,\"Marital_Status\")\n",
    "train_df[\"PC1_Count\"] = getCountofVar(train_df,\"Product_Category_1\")\n",
    "train_df[\"PC2_Count\"] = getCountofVar(train_df,\"Product_Category_2\")\n",
    "train_df[\"PC3_Count\"] = getCountofVar(train_df,\"Product_Category_3\")"
   ]
  },
  {
   "cell_type": "markdown",
   "metadata": {},
   "source": [
    "<br> But, before this I will impute the missing values with 0. I did not impute the missing values earlier as it will cause the counts to reflect values. Right now the count for missing values is 0."
   ]
  },
  {
   "cell_type": "code",
   "execution_count": 7,
   "metadata": {},
   "outputs": [],
   "source": [
    "train_df.fillna(0, inplace=True)"
   ]
  },
  {
   "cell_type": "code",
   "execution_count": 8,
   "metadata": {},
   "outputs": [],
   "source": [
    "def getPurchaseStats(target_df,compute_df, feature_name):\n",
    "    feature_grouped = compute_df.groupby(feature_name)\n",
    "    min_dict = {}\n",
    "    max_dict = {}\n",
    "    mean_dict = {}\n",
    "    twentyfive_dict = {}\n",
    "    fifty_dict = {}\n",
    "    seventyfive_dict = {}\n",
    "    for name, group in feature_grouped:\n",
    "        min_dict[name] = min(np.array(group[\"Purchase\"]))\n",
    "        max_dict[name] = max(np.array(group[\"Purchase\"]))\n",
    "        mean_dict[name] = np.mean(np.array(group[\"Purchase\"]))\n",
    "        twentyfive_dict[name] = np.percentile(np.array(group[\"Purchase\"]),25)\n",
    "        fifty_dict[name] = np.percentile(np.array(group[\"Purchase\"]),50)\n",
    "        seventyfive_dict[name] = np.percentile(np.array(group[\"Purchase\"]),75)\n",
    "    min_list = []\n",
    "    max_list = []\n",
    "    mean_list = []\n",
    "    twentyfive_list = []\n",
    "    fifty_list = []\n",
    "    seventyfive_list = []\n",
    "    for index, row in target_df.iterrows():\n",
    "        name = row[feature_name]\n",
    "        min_list.append(min_dict.get(name,0))\n",
    "        max_list.append(max_dict.get(name,0))\n",
    "        mean_list.append(mean_dict.get(name,0))\n",
    "        twentyfive_list.append( twentyfive_dict.get(name,0))\n",
    "        fifty_list.append( fifty_dict.get(name,0))\n",
    "        seventyfive_list.append( seventyfive_dict.get(name,0))\n",
    "    return min_list, max_list, mean_list, twentyfive_list, fifty_list, seventyfive_list"
   ]
  },
  {
   "cell_type": "markdown",
   "metadata": {},
   "source": [
    "User ID and Purchase stats"
   ]
  },
  {
   "cell_type": "code",
   "execution_count": 9,
   "metadata": {},
   "outputs": [],
   "source": [
    "min_price_list, max_price_list, mean_price_list, twentyfive_price_list,fifty_price_list, seventyfive_price_list = getPurchaseStats(train_df,train_df, \"User_ID\")\n",
    "train_df[\"User_ID_Min_Purchase\"] = min_price_list\n",
    "train_df[\"User_ID_Max_Purchase\"] = max_price_list\n",
    "train_df[\"User_ID_Mean_Purchase\"] = mean_price_list\n",
    "train_df[\"User_ID_25Per_Purchase\"] = twentyfive_price_list\n",
    "train_df[\"User_ID_50Per_Purchase\"] = fifty_price_list\n",
    "train_df[\"User_ID_75Per_Purchase\"] = seventyfive_price_list"
   ]
  },
  {
   "cell_type": "markdown",
   "metadata": {},
   "source": [
    "Product_ID and Purchase Stats"
   ]
  },
  {
   "cell_type": "code",
   "execution_count": 10,
   "metadata": {},
   "outputs": [],
   "source": [
    "min_price_list, max_price_list, mean_price_list, twentyfive_price_list,fifty_price_list, seventyfive_price_list = getPurchaseStats(train_df,train_df, \"Product_ID\")\n",
    "train_df[\"Product_ID_Min_Purchase\"] = min_price_list\n",
    "train_df[\"Product_ID_Max_Purchase\"] = max_price_list\n",
    "train_df[\"Product_ID_Mean_Purchase\"] = mean_price_list\n",
    "train_df[\"Product_ID_25Per_Purchase\"] = twentyfive_price_list\n",
    "train_df[\"Product_ID_50Per_Purchase\"] = fifty_price_list\n",
    "train_df[\"Product_ID_75Per_Purchase\"] = seventyfive_price_list"
   ]
  },
  {
   "cell_type": "markdown",
   "metadata": {},
   "source": [
    "Gender and Purchase Stats"
   ]
  },
  {
   "cell_type": "code",
   "execution_count": 11,
   "metadata": {},
   "outputs": [],
   "source": [
    "min_price_list, max_price_list, mean_price_list, twentyfive_price_list,fifty_price_list, seventyfive_price_list = getPurchaseStats(train_df, train_df, \"Gender\")\n",
    "train_df[\"Gender_Min_Purchase\"] = min_price_list\n",
    "train_df[\"Gender_Max_Purchase\"] = max_price_list\n",
    "train_df[\"Gender_Mean_Purchase\"] = mean_price_list\n",
    "train_df[\"Gender_25Per_Purchase\"] = twentyfive_price_list\n",
    "train_df[\"Gender_50Per_Purchase\"] = fifty_price_list\n",
    "train_df[\"Gender_75Per_Purchase\"] = seventyfive_price_list"
   ]
  },
  {
   "cell_type": "markdown",
   "metadata": {},
   "source": [
    "Age and Purchase stats"
   ]
  },
  {
   "cell_type": "code",
   "execution_count": 12,
   "metadata": {},
   "outputs": [],
   "source": [
    "min_price_list, max_price_list, mean_price_list, twentyfive_price_list,fifty_price_list, seventyfive_price_list = getPurchaseStats(train_df,train_df, \"Age\")\n",
    "train_df[\"Age_Min_Purchase\"] = min_price_list\n",
    "train_df[\"Age_Max_Purchase\"] = max_price_list\n",
    "train_df[\"Age_Mean_Purchase\"] = mean_price_list\n",
    "train_df[\"Age_25Per_Purchase\"] = twentyfive_price_list\n",
    "train_df[\"Age_50Per_Purchase\"] = fifty_price_list\n",
    "train_df[\"Age_75Per_Purchase\"] = seventyfive_price_list"
   ]
  },
  {
   "cell_type": "markdown",
   "metadata": {},
   "source": [
    "Occupation and Purchase stats"
   ]
  },
  {
   "cell_type": "code",
   "execution_count": 13,
   "metadata": {},
   "outputs": [],
   "source": [
    "min_price_list, max_price_list, mean_price_list, twentyfive_price_list,fifty_price_list, seventyfive_price_list = getPurchaseStats(train_df,train_df, \"Occupation\")\n",
    "train_df[\"Occupation_Min_Purchase\"] = min_price_list\n",
    "train_df[\"Occupation_Max_Purchase\"] = max_price_list\n",
    "train_df[\"Occupation_Mean_Purchase\"] = mean_price_list\n",
    "train_df[\"Occupation_25Per_Purchase\"] = twentyfive_price_list\n",
    "train_df[\"Occupation_50Per_Purchase\"] = fifty_price_list\n",
    "train_df[\"Occupation_75Per_Purchase\"] = seventyfive_price_list"
   ]
  },
  {
   "cell_type": "markdown",
   "metadata": {},
   "source": [
    "City and Purchase stats"
   ]
  },
  {
   "cell_type": "code",
   "execution_count": 14,
   "metadata": {},
   "outputs": [],
   "source": [
    "min_price_list, max_price_list, mean_price_list, twentyfive_price_list,fifty_price_list, seventyfive_price_list = getPurchaseStats(train_df,train_df, \"City_Category\")\n",
    "train_df[\"City_Min_Purchase\"] = min_price_list\n",
    "train_df[\"City_Max_Purchase\"] = max_price_list\n",
    "train_df[\"City_Mean_Purchase\"] = mean_price_list\n",
    "train_df[\"City_25Per_Purchase\"] = twentyfive_price_list\n",
    "train_df[\"City_50Per_Purchase\"] = fifty_price_list\n",
    "train_df[\"City_75Per_Purchase\"] = seventyfive_price_list"
   ]
  },
  {
   "cell_type": "markdown",
   "metadata": {},
   "source": [
    "stay in current city and Purchase stats"
   ]
  },
  {
   "cell_type": "code",
   "execution_count": 15,
   "metadata": {},
   "outputs": [],
   "source": [
    "min_price_list, max_price_list, mean_price_list, twentyfive_price_list,fifty_price_list, seventyfive_price_list = getPurchaseStats(train_df,train_df, \"Stay_In_Current_City_Years\")\n",
    "train_df[\"Stay_Min_Purchase\"] = min_price_list\n",
    "train_df[\"Stay_Max_Purchase\"] = max_price_list\n",
    "train_df[\"Stay_Mean_Purchase\"] = mean_price_list\n",
    "train_df[\"Stay_25Per_Purchase\"] = twentyfive_price_list\n",
    "train_df[\"Stay_50Per_Purchase\"] = fifty_price_list\n",
    "train_df[\"Stay_75Per_Purchase\"] = seventyfive_price_list"
   ]
  },
  {
   "cell_type": "markdown",
   "metadata": {},
   "source": [
    "Marital status and Purchase Stats"
   ]
  },
  {
   "cell_type": "code",
   "execution_count": 16,
   "metadata": {},
   "outputs": [],
   "source": [
    "min_price_list, max_price_list, mean_price_list, twentyfive_price_list,fifty_price_list, seventyfive_price_list = getPurchaseStats(train_df,train_df, \"Marital_Status\")\n",
    "train_df[\"Marital_Min_Purchase\"] = min_price_list\n",
    "train_df[\"Marital_Max_Purchase\"] = max_price_list\n",
    "train_df[\"Marital_Mean_Purchase\"] = mean_price_list\n",
    "train_df[\"Marital_25Per_Purchase\"] = twentyfive_price_list\n",
    "train_df[\"Marital_50Per_Purchase\"] = fifty_price_list\n",
    "train_df[\"Marital_75Per_Purchase\"] = seventyfive_price_list"
   ]
  },
  {
   "cell_type": "markdown",
   "metadata": {},
   "source": [
    "PC1 and Purchase Stats"
   ]
  },
  {
   "cell_type": "code",
   "execution_count": 17,
   "metadata": {},
   "outputs": [],
   "source": [
    "min_price_list, max_price_list, mean_price_list, twentyfive_price_list,fifty_price_list, seventyfive_price_list = getPurchaseStats(train_df,train_df, \"Product_Category_1\")\n",
    "train_df[\"PC1_Min_Purchase\"] = min_price_list\n",
    "train_df[\"PC1_Max_Purchase\"] = max_price_list\n",
    "train_df[\"PC1_Mean_Purchase\"] = mean_price_list\n",
    "train_df[\"PC1_25Per_Purchase\"] = twentyfive_price_list\n",
    "train_df[\"PC1_50Per_Purchase\"] = fifty_price_list\n",
    "train_df[\"PC1_75Per_Purchase\"] = seventyfive_price_list"
   ]
  },
  {
   "cell_type": "markdown",
   "metadata": {},
   "source": [
    "PC2 and Purchase"
   ]
  },
  {
   "cell_type": "code",
   "execution_count": 18,
   "metadata": {},
   "outputs": [],
   "source": [
    "min_price_list, max_price_list, mean_price_list, twentyfive_price_list,fifty_price_list, seventyfive_price_list = getPurchaseStats(train_df,train_df, \"Product_Category_2\")\n",
    "train_df[\"PC2_Min_Purchase\"] = min_price_list\n",
    "train_df[\"PC2_Max_Purchase\"] = max_price_list\n",
    "train_df[\"PC2_Mean_Purchase\"] = mean_price_list\n",
    "train_df[\"PC2_25Per_Purchase\"] = twentyfive_price_list\n",
    "train_df[\"PC2_50Per_Purchase\"] = fifty_price_list\n",
    "train_df[\"PC2_75Per_Purchase\"] = seventyfive_price_list"
   ]
  },
  {
   "cell_type": "markdown",
   "metadata": {},
   "source": [
    "PC3 and Purchase"
   ]
  },
  {
   "cell_type": "code",
   "execution_count": 19,
   "metadata": {},
   "outputs": [],
   "source": [
    "min_price_list, max_price_list, mean_price_list, twentyfive_price_list,fifty_price_list, seventyfive_price_list = getPurchaseStats(train_df,train_df, \"Product_Category_3\")\n",
    "train_df[\"PC3_Min_Purchase\"] = min_price_list\n",
    "train_df[\"PC3_Max_Purchase\"] = max_price_list\n",
    "train_df[\"PC3_Mean_Purchase\"] = mean_price_list\n",
    "train_df[\"PC3_25Per_Purchase\"] = twentyfive_price_list\n",
    "train_df[\"PC3_50Per_Purchase\"] = fifty_price_list\n",
    "train_df[\"PC3_75Per_Purchase\"] = seventyfive_price_list"
   ]
  },
  {
   "cell_type": "code",
   "execution_count": 20,
   "metadata": {},
   "outputs": [],
   "source": [
    "#define X\n",
    "X = train_df.drop(columns=['User_ID','Product_ID','Purchase'],axis=1)"
   ]
  },
  {
   "cell_type": "code",
   "execution_count": 21,
   "metadata": {},
   "outputs": [],
   "source": [
    "#define y\n",
    "y = train_df[\"Purchase\"]"
   ]
  },
  {
   "cell_type": "code",
   "execution_count": 68,
   "metadata": {},
   "outputs": [],
   "source": [
    "#baseline model\n",
    "from xgboost import XGBRegressor\n",
    "xgb = XGBRegressor(n_estimators=300, max_depth = 10, learning_rate = 0.05, objective = \"reg:squarederror\", min_child_weight  = 10)"
   ]
  },
  {
   "cell_type": "code",
   "execution_count": 26,
   "metadata": {},
   "outputs": [
    {
     "data": {
      "text/plain": [
       "XGBRegressor(base_score=0.5, booster='gbtree', colsample_bylevel=1,\n",
       "             colsample_bynode=1, colsample_bytree=1, gamma=0,\n",
       "             importance_type='gain', learning_rate=0.05, max_delta_step=0,\n",
       "             max_depth=10, min_child_weight=10, missing=None, n_estimators=300,\n",
       "             n_jobs=1, nthread=None, objective='reg:squarederror',\n",
       "             random_state=0, reg_alpha=0, reg_lambda=1, scale_pos_weight=1,\n",
       "             seed=None, silent=None, subsample=1, verbosity=1)"
      ]
     },
     "execution_count": 26,
     "metadata": {},
     "output_type": "execute_result"
    }
   ],
   "source": [
    "xgb.fit(X, y)"
   ]
  },
  {
   "cell_type": "code",
   "execution_count": 30,
   "metadata": {},
   "outputs": [],
   "source": [
    "#we will take features that have importance more than 0.002\n",
    "from sklearn.feature_selection import SelectFromModel\n",
    "selection = SelectFromModel(xgb, threshold=0.002, prefit=True)"
   ]
  },
  {
   "cell_type": "code",
   "execution_count": 31,
   "metadata": {},
   "outputs": [],
   "source": [
    "#define X_train after selecting the top few features\n",
    "train_selection = selection.transform(X_train)"
   ]
  },
  {
   "cell_type": "code",
   "execution_count": 58,
   "metadata": {},
   "outputs": [
    {
     "data": {
      "text/plain": [
       "XGBRegressor(base_score=0.5, booster='gbtree', colsample_bylevel=1,\n",
       "             colsample_bynode=1, colsample_bytree=1, gamma=0,\n",
       "             importance_type='gain', learning_rate=0.05, max_delta_step=0,\n",
       "             max_depth=10, min_child_weight=10, missing=None, n_estimators=300,\n",
       "             n_jobs=1, nthread=None, objective='reg:squarederror',\n",
       "             random_state=0, reg_alpha=0, reg_lambda=1, scale_pos_weight=1,\n",
       "             seed=None, silent=None, subsample=1, verbosity=1)"
      ]
     },
     "execution_count": 58,
     "metadata": {},
     "output_type": "execute_result"
    }
   ],
   "source": [
    "xgb_selected_features = XGBRegressor(n_estimators=300, max_depth = 10, learning_rate = 0.05, objective = \"reg:squarederror\", min_child_weight  = 10)\n",
    "# train model\n",
    "xgb_selected_features.fit(train_selection, y_train)"
   ]
  },
  {
   "cell_type": "markdown",
   "metadata": {},
   "source": [
    "Now we know that we can use this model for predicting the purchase for the test data\n",
    "<br> So, we will do all the steps that we did for preprocessing the training data"
   ]
  },
  {
   "cell_type": "code",
   "execution_count": 35,
   "metadata": {},
   "outputs": [],
   "source": [
    "#Load the test data\n",
    "test_df = pd.read_csv(r'test.csv')"
   ]
  },
  {
   "cell_type": "code",
   "execution_count": 36,
   "metadata": {},
   "outputs": [],
   "source": [
    "#preprocessing of categorical features\n",
    "test_df[\"Gender\"] = test_df[\"Gender\"].apply(lambda x: gender_dict[x])\n",
    "test_df[\"Age\"] = test_df[\"Age\"].apply(lambda x: age_dict[x])\n",
    "test_df[\"City_Category\"] = test_df[\"City_Category\"].apply(lambda x: city_dict[x])\n",
    "test_df[\"Stay_In_Current_City_Years\"] = test_df[\"Stay_In_Current_City_Years\"].apply(lambda x: stay_dict[x])"
   ]
  },
  {
   "cell_type": "code",
   "execution_count": 37,
   "metadata": {},
   "outputs": [],
   "source": [
    "test_df[\"User_ID_Count\"] = getCountofVar(test_df,\"User_ID\")\n",
    "test_df[\"Product_ID_Count\"] = getCountofVar(test_df,\"Product_ID\")\n",
    "test_df[\"Gender_Count\"] = getCountofVar(test_df,\"Gender\")\n",
    "test_df[\"Age_Count\"] = getCountofVar(test_df,\"Age\")\n",
    "test_df[\"Occupation_Count\"] = getCountofVar(test_df,\"Occupation\")\n",
    "test_df[\"City_Count\"] = getCountofVar(test_df,\"City_Category\")\n",
    "test_df[\"Stay_Count\"] = getCountofVar(test_df,\"Stay_In_Current_City_Years\")\n",
    "test_df[\"Marital_Status_Count\"] = getCountofVar(test_df,\"Marital_Status\")\n",
    "test_df[\"PC1_Count\"] = getCountofVar(test_df,\"Product_Category_1\")\n",
    "test_df[\"PC2_Count\"] = getCountofVar(test_df,\"Product_Category_2\")\n",
    "test_df[\"PC3_Count\"] = getCountofVar(test_df,\"Product_Category_3\")"
   ]
  },
  {
   "cell_type": "code",
   "execution_count": 38,
   "metadata": {},
   "outputs": [],
   "source": [
    "#impute blank values\n",
    "test_df.fillna(0, inplace=True)"
   ]
  },
  {
   "cell_type": "markdown",
   "metadata": {},
   "source": [
    "Stats for other variables are being computed"
   ]
  },
  {
   "cell_type": "code",
   "execution_count": 39,
   "metadata": {},
   "outputs": [],
   "source": [
    "min_price_list, max_price_list, mean_price_list, twentyfive_price_list,fifty_price_list, seventyfive_price_list = getPurchaseStats(test_df,train_df, \"User_ID\")\n",
    "test_df[\"User_ID_Min_Purchase\"] = min_price_list\n",
    "test_df[\"User_ID_Max_Purchase\"] = max_price_list\n",
    "test_df[\"User_ID_Mean_Purchase\"] = mean_price_list\n",
    "test_df[\"User_ID_25Per_Purchase\"] = twentyfive_price_list\n",
    "test_df[\"User_ID_50Per_Purchase\"] = fifty_price_list\n",
    "test_df[\"User_ID_75Per_Purchase\"] = seventyfive_price_list"
   ]
  },
  {
   "cell_type": "code",
   "execution_count": 40,
   "metadata": {},
   "outputs": [],
   "source": [
    "min_price_list, max_price_list, mean_price_list, twentyfive_price_list,fifty_price_list, seventyfive_price_list = getPurchaseStats(test_df,train_df, \"Product_ID\")\n",
    "test_df[\"Product_ID_Min_Purchase\"] = min_price_list\n",
    "test_df[\"Product_ID_Max_Purchase\"] = max_price_list\n",
    "test_df[\"Product_ID_Mean_Purchase\"] = mean_price_list\n",
    "test_df[\"Product_ID_25Per_Purchase\"] = twentyfive_price_list\n",
    "test_df[\"Product_ID_50Per_Purchase\"] = fifty_price_list\n",
    "test_df[\"Product_ID_75Per_Purchase\"] = seventyfive_price_list"
   ]
  },
  {
   "cell_type": "code",
   "execution_count": 41,
   "metadata": {},
   "outputs": [],
   "source": [
    "min_price_list, max_price_list, mean_price_list, twentyfive_price_list,fifty_price_list, seventyfive_price_list = getPurchaseStats(test_df, train_df, \"Gender\")\n",
    "test_df[\"Gender_Min_Purchase\"] = min_price_list\n",
    "test_df[\"Gender_Max_Purchase\"] = max_price_list\n",
    "test_df[\"Gender_Mean_Purchase\"] = mean_price_list\n",
    "test_df[\"Gender_25Per_Purchase\"] = twentyfive_price_list\n",
    "test_df[\"Gender_50Per_Purchase\"] = fifty_price_list\n",
    "test_df[\"Gender_75Per_Purchase\"] = seventyfive_price_list"
   ]
  },
  {
   "cell_type": "code",
   "execution_count": 42,
   "metadata": {},
   "outputs": [],
   "source": [
    "min_price_list, max_price_list, mean_price_list, twentyfive_price_list,fifty_price_list, seventyfive_price_list = getPurchaseStats(test_df,train_df, \"Age\")\n",
    "test_df[\"Age_Min_Purchase\"] = min_price_list\n",
    "test_df[\"Age_Max_Purchase\"] = max_price_list\n",
    "test_df[\"Age_Mean_Purchase\"] = mean_price_list\n",
    "test_df[\"Age_25Per_Purchase\"] = twentyfive_price_list\n",
    "test_df[\"Age_50Per_Purchase\"] = fifty_price_list\n",
    "test_df[\"Age_75Per_Purchase\"] = seventyfive_price_list"
   ]
  },
  {
   "cell_type": "code",
   "execution_count": 43,
   "metadata": {},
   "outputs": [],
   "source": [
    "min_price_list, max_price_list, mean_price_list, twentyfive_price_list,fifty_price_list, seventyfive_price_list = getPurchaseStats(test_df,train_df, \"Occupation\")\n",
    "test_df[\"Occupation_Min_Purchase\"] = min_price_list\n",
    "test_df[\"Occupation_Max_Purchase\"] = max_price_list\n",
    "test_df[\"Occupation_Mean_Purchase\"] = mean_price_list\n",
    "test_df[\"Occupation_25Per_Purchase\"] = twentyfive_price_list\n",
    "test_df[\"Occupation_50Per_Purchase\"] = fifty_price_list\n",
    "test_df[\"Occupation_75Per_Purchase\"] = seventyfive_price_list"
   ]
  },
  {
   "cell_type": "code",
   "execution_count": 44,
   "metadata": {},
   "outputs": [],
   "source": [
    "min_price_list, max_price_list, mean_price_list, twentyfive_price_list,fifty_price_list, seventyfive_price_list = getPurchaseStats(test_df,train_df, \"City_Category\")\n",
    "test_df[\"City_Min_Purchase\"] = min_price_list\n",
    "test_df[\"City_Max_Purchase\"] = max_price_list\n",
    "test_df[\"City_Mean_Purchase\"] = mean_price_list\n",
    "test_df[\"City_25Per_Purchase\"] = twentyfive_price_list\n",
    "test_df[\"City_50Per_Purchase\"] = fifty_price_list\n",
    "test_df[\"City_75Per_Purchase\"] = seventyfive_price_list"
   ]
  },
  {
   "cell_type": "code",
   "execution_count": 45,
   "metadata": {},
   "outputs": [],
   "source": [
    "min_price_list, max_price_list, mean_price_list, twentyfive_price_list,fifty_price_list, seventyfive_price_list = getPurchaseStats(test_df,train_df, \"Stay_In_Current_City_Years\")\n",
    "test_df[\"Stay_Min_Purchase\"] = min_price_list\n",
    "test_df[\"Stay_Max_Purchase\"] = max_price_list\n",
    "test_df[\"Stay_Mean_Purchase\"] = mean_price_list\n",
    "test_df[\"Stay_25Per_Purchase\"] = twentyfive_price_list\n",
    "test_df[\"Stay_50Per_Purchase\"] = fifty_price_list\n",
    "test_df[\"Stay_75Per_Purchase\"] = seventyfive_price_list"
   ]
  },
  {
   "cell_type": "code",
   "execution_count": 46,
   "metadata": {},
   "outputs": [],
   "source": [
    "min_price_list, max_price_list, mean_price_list, twentyfive_price_list,fifty_price_list, seventyfive_price_list = getPurchaseStats(test_df,train_df, \"Marital_Status\")\n",
    "test_df[\"Marital_Min_Purchase\"] = min_price_list\n",
    "test_df[\"Marital_Max_Purchase\"] = max_price_list\n",
    "test_df[\"Marital_Mean_Purchase\"] = mean_price_list\n",
    "test_df[\"Marital_25Per_Purchase\"] = twentyfive_price_list\n",
    "test_df[\"Marital_50Per_Purchase\"] = fifty_price_list\n",
    "test_df[\"Marital_75Per_Purchase\"] = seventyfive_price_list"
   ]
  },
  {
   "cell_type": "code",
   "execution_count": 47,
   "metadata": {},
   "outputs": [],
   "source": [
    "min_price_list, max_price_list, mean_price_list, twentyfive_price_list,fifty_price_list, seventyfive_price_list = getPurchaseStats(test_df,train_df, \"Product_Category_1\")\n",
    "test_df[\"PC1_Min_Purchase\"] = min_price_list\n",
    "test_df[\"PC1_Max_Purchase\"] = max_price_list\n",
    "test_df[\"PC1_Mean_Purchase\"] = mean_price_list\n",
    "test_df[\"PC1_25Per_Purchase\"] = twentyfive_price_list\n",
    "test_df[\"PC1_50Per_Purchase\"] = fifty_price_list\n",
    "test_df[\"PC1_75Per_Purchase\"] = seventyfive_price_list"
   ]
  },
  {
   "cell_type": "code",
   "execution_count": 48,
   "metadata": {},
   "outputs": [],
   "source": [
    "min_price_list, max_price_list, mean_price_list, twentyfive_price_list,fifty_price_list, seventyfive_price_list = getPurchaseStats(test_df,train_df, \"Product_Category_2\")\n",
    "test_df[\"PC2_Min_Purchase\"] = min_price_list\n",
    "test_df[\"PC2_Max_Purchase\"] = max_price_list\n",
    "test_df[\"PC2_Mean_Purchase\"] = mean_price_list\n",
    "test_df[\"PC2_25Per_Purchase\"] = twentyfive_price_list\n",
    "test_df[\"PC2_50Per_Purchase\"] = fifty_price_list\n",
    "test_df[\"PC2_75Per_Purchase\"] = seventyfive_price_list"
   ]
  },
  {
   "cell_type": "code",
   "execution_count": 49,
   "metadata": {},
   "outputs": [],
   "source": [
    "min_price_list, max_price_list, mean_price_list, twentyfive_price_list,fifty_price_list, seventyfive_price_list = getPurchaseStats(test_df,train_df, \"Product_Category_3\")\n",
    "test_df[\"PC3_Min_Purchase\"] = min_price_list\n",
    "test_df[\"PC3_Max_Purchase\"] = max_price_list\n",
    "test_df[\"PC3_Mean_Purchase\"] = mean_price_list\n",
    "test_df[\"PC3_25Per_Purchase\"] = twentyfive_price_list\n",
    "test_df[\"PC3_50Per_Purchase\"] = fifty_price_list\n",
    "test_df[\"PC3_75Per_Purchase\"] = seventyfive_price_list"
   ]
  },
  {
   "cell_type": "code",
   "execution_count": 50,
   "metadata": {},
   "outputs": [],
   "source": [
    "#store the data in a file\n",
    "test_df.to_csv(r'test_full_feature.csv',index=False)\n",
    "#test_df = pd.read_csv(r'test_full_feature.csv')"
   ]
  },
  {
   "cell_type": "code",
   "execution_count": 64,
   "metadata": {},
   "outputs": [],
   "source": [
    "#define test data\n",
    "test_data = test_df.drop(columns=['User_ID','Product_ID'],axis=1)"
   ]
  },
  {
   "cell_type": "code",
   "execution_count": 65,
   "metadata": {},
   "outputs": [],
   "source": [
    "#test data based on the features selected for the model\n",
    "test_data_selection = selection.transform(test_data)"
   ]
  },
  {
   "cell_type": "code",
   "execution_count": 66,
   "metadata": {},
   "outputs": [],
   "source": [
    "#predict the test data\n",
    "test_df[\"Purchase\"] = xgb_selected_features.predict(test_data_selection)"
   ]
  },
  {
   "cell_type": "code",
   "execution_count": 67,
   "metadata": {},
   "outputs": [],
   "source": [
    "IDcol = ['User_ID','Product_ID']\n",
    "IDcol.append(\"Purchase\")\n",
    "submission = pd.DataFrame({ x: test_df[x] for x in IDcol})\n",
    "submission.to_csv(r\"submission_xgb4.csv\", index=False)"
   ]
  },
  {
   "cell_type": "markdown",
   "metadata": {},
   "source": [
    "I uploaded the submission file and the result gave me an RMSE of 2450.52. The best result in the competition had an RMSE of 2380.41"
   ]
  },
  {
   "cell_type": "code",
   "execution_count": null,
   "metadata": {},
   "outputs": [],
   "source": []
  }
 ],
 "metadata": {
  "kernelspec": {
   "display_name": "Python 3",
   "language": "python",
   "name": "python3"
  },
  "language_info": {
   "codemirror_mode": {
    "name": "ipython",
    "version": 3
   },
   "file_extension": ".py",
   "mimetype": "text/x-python",
   "name": "python",
   "nbconvert_exporter": "python",
   "pygments_lexer": "ipython3",
   "version": "3.7.7"
  }
 },
 "nbformat": 4,
 "nbformat_minor": 2
}
